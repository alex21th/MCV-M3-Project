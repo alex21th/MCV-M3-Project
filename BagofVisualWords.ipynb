{
 "cells": [
  {
   "cell_type": "markdown",
   "metadata": {
    "cell_id": "e33530909df64ceab1768e203e837622",
    "deepnote_cell_type": "text-cell-h1",
    "formattedRanges": [],
    "is_collapsed": false,
    "tags": []
   },
   "source": [
    "# M3 – Week 1"
   ]
  },
  {
   "cell_type": "markdown",
   "metadata": {
    "cell_id": "e4a5cf02-f516-47c8-9159-3688a3c8597b",
    "deepnote_cell_type": "text-cell-h3",
    "formattedRanges": [],
    "is_collapsed": false,
    "tags": []
   },
   "source": [
    "### Towards an image classification pipeline"
   ]
  },
  {
   "cell_type": "markdown",
   "metadata": {
    "cell_id": "5e503711-1470-4b92-825a-3bd918f3392d",
    "deepnote_cell_type": "text-cell-p",
    "formattedRanges": [],
    "is_collapsed": false,
    "tags": []
   },
   "source": [
    "This work was made by Edward Hogea, Alex Carrillo and Guillem Martínez\n",
    "\n",
    "\n",
    "On these notebook, we adress the objective of generating an image classification pipeline employing a Bag Of Visual Words (BOVW) algorithm. "
   ]
  },
  {
   "cell_type": "markdown",
   "metadata": {},
   "source": [
    "### Imports"
   ]
  },
  {
   "cell_type": "code",
   "execution_count": 1,
   "metadata": {
    "cell_id": "9ee9dadbcb834645aed5f3089289fdfe",
    "deepnote_cell_type": "code",
    "deepnote_to_be_reexecuted": false,
    "execution_millis": 1842,
    "execution_start": 1672946213295,
    "source_hash": "7a716c2"
   },
   "outputs": [],
   "source": [
    "import os\n",
    "import cv2\n",
    "import numpy as np\n",
    "import pickle\n",
    "import json\n",
    "import matplotlib.pyplot as plt\n",
    "from sklearn.discriminant_analysis import LinearDiscriminantAnalysis as LDA\n",
    "from tqdm import tqdm\n",
    "from joblib import Parallel, delayed, cpu_count\n",
    "from sklearn.cluster import MiniBatchKMeans\n",
    "from sklearn.neighbors import KNeighborsClassifier\n",
    "from sklearn.decomposition import PCA\n",
    "from sklearn.model_selection import KFold, GridSearchCV\n",
    "from sklearn.discriminant_analysis import LinearDiscriminantAnalysis\n",
    "from sklearn.linear_model import LogisticRegression\n",
    "from typing import List, Dict, Tuple, Any\n",
    "from copy import deepcopy\n",
    "from sklearn.pipeline import make_pipeline\n",
    "from sklearn.model_selection import cross_val_score\n",
    "from sklearn.linear_model._base import BaseEstimator\n",
    "from copy import deepcopy\n",
    "import pandas as pd\n",
    "from pylab import rcParams\n",
    "import matplotlib\n",
    "import pandas as pd\n",
    "import matplotlib.pyplot as plt\n",
    "import seaborn as sns"
   ]
  },
  {
   "cell_type": "markdown",
   "metadata": {},
   "source": [
    "### Data Handling Functions"
   ]
  },
  {
   "cell_type": "code",
   "execution_count": 2,
   "metadata": {
    "cell_id": "9306dbb97a8f464ca459d9ea1e75323f",
    "deepnote_cell_type": "code",
    "deepnote_to_be_reexecuted": false,
    "execution_millis": 3,
    "execution_start": 1672946215153,
    "source_hash": "9ff3ea74",
    "tags": []
   },
   "outputs": [],
   "source": [
    "def preprocess_paths(filepaths: List[str]):\n",
    "    \"\"\"\n",
    "    Removes the \"../\" (first three characters) using a list comprehension\n",
    "    \"\"\"\n",
    "    return [fpath[3:] for fpath in filepaths]\n",
    "\n",
    "\n",
    "def load_image(path: str) -> Tuple[np.ndarray, np.ndarray]:\n",
    "    \"\"\"\n",
    "    Load image at path.\n",
    "    \"\"\"\n",
    "    return cv2.imread(path)\n",
    "\n",
    "\n",
    "def load_images(files: List[str], desc: str, n_process: int = cpu_count()) -> Tuple[np.ndarray]:\n",
    "    \"\"\"\n",
    "    Load a list of images by their full filenames.\n",
    "    \"\"\"\n",
    "    images = Parallel(n_jobs=n_process, prefer=\"threads\")(\n",
    "        delayed(load_image)(file) for file in tqdm(files, desc=desc))\n",
    "    print(f\"read: {len(images)} images\")\n",
    "    return images\n",
    "\n",
    "\n",
    "def show_image(image: np.ndarray, title: str = 'image'):\n",
    "    \"\"\"Shows image.\"\"\"\n",
    "    plt.imshow(image[...,::-1])\n",
    "    plt.title(title)\n",
    "    plt.show()"
   ]
  },
  {
   "attachments": {},
   "cell_type": "markdown",
   "metadata": {},
   "source": [
    "### Visualization functions"
   ]
  },
  {
   "cell_type": "code",
   "execution_count": 34,
   "metadata": {},
   "outputs": [],
   "source": [
    "def plot_params_comparison(df: np.ndarray, detectors: List[str], xvar: str, yvar: str, zvar: str, figsize=(5, 3)):\n",
    "    fig, ax = plt.subplots(1, len(detectors), figsize=figsize, sharey=True)\n",
    "    lvls = df[zvar].unique()\n",
    "    for detector in detectors:\n",
    "        data = df.copy()[df['detector'] == detector]\n",
    "        for i in lvls:\n",
    "            ax[detectors.index(detector)].errorbar(x=data[data[zvar]==i][xvar],\n",
    "                                                  y=data[data[zvar]==i][yvar], \n",
    "                                                  yerr=data[data[zvar]==i][f'std_{yvar}'], label=i, marker='o')\n",
    "        ax[detectors.index(detector)].set_xlabel(xvar)\n",
    "        ax[detectors.index(detector)].title.set_text(detector)\n",
    "        ax[detectors.index(detector)].grid()\n",
    "    ax[0].set_ylabel(yvar)\n",
    "    ax[detectors.index(detector)].legend(title=zvar)\n",
    "    plt.show()"
   ]
  },
  {
   "cell_type": "markdown",
   "metadata": {},
   "source": [
    "### Feature extractors and other major functionalities"
   ]
  },
  {
   "cell_type": "code",
   "execution_count": 4,
   "metadata": {
    "cell_id": "609b4b702da644f19238670bd45a4193",
    "deepnote_cell_type": "code",
    "deepnote_to_be_reexecuted": false,
    "execution_millis": 3,
    "execution_start": 1672946215159,
    "source_hash": "93c479f6",
    "tags": []
   },
   "outputs": [],
   "source": [
    "def create_dense_kp(img_shape, step_size):\n",
    "    return [cv2.KeyPoint(x, y, step_size) for y in range(0, img_shape[0], step_size) \n",
    "                                          for x in range(0, img_shape[1], step_size)]\n",
    "\n",
    "\n",
    "def get_detector(name: str = 'sift', n_features: int = 100) -> Any:\n",
    "    if name == 'kaze':\n",
    "        detector = cv2.KAZE_create()\n",
    "    elif name == 'akaze':\n",
    "        detector = cv2.AKAZE_create(descriptor_size=n_features)\n",
    "    elif name == 'brisk':\n",
    "        detector = cv2.BRISK_create()\n",
    "    elif name == 'sift':\n",
    "        detector = cv2.SIFT_create(nfeatures=n_features)\n",
    "    elif name == 'dense_sift':\n",
    "        detector = cv2.SIFT_create(nfeatures=n_features)\n",
    "    else:\n",
    "        raise ValueError(\n",
    "            f\"Given detector {name} is an invalid one.\"\n",
    "        )\n",
    "    return name, detector"
   ]
  },
  {
   "cell_type": "code",
   "execution_count": 5,
   "metadata": {
    "cell_id": "29a93f212fbb48a487796c39cfcee9ea",
    "deepnote_cell_type": "code",
    "deepnote_to_be_reexecuted": false,
    "execution_millis": 2,
    "execution_start": 1672946215184,
    "source_hash": "17ff78c8",
    "tags": []
   },
   "outputs": [],
   "source": [
    "def compute_image_descriptors(image: np.ndarray, detector_name: str, detector: Any, step_size: int) -> Tuple[np.ndarray, np.ndarray]:\n",
    "    \"\"\"\n",
    "    Compute descriptors for an image using a feature detector.\n",
    "    \"\"\"\n",
    "    gray = cv2.cvtColor(image.copy(), cv2.COLOR_BGR2GRAY)\n",
    "    if detector_name == 'dense_sift':\n",
    "        keypoints = create_dense_kp(gray.shape, step_size=step_size)\n",
    "        _, descriptors = detector.compute(gray, keypoints)\n",
    "    else:\n",
    "        keypoints, descriptors = detector.detectAndCompute(gray, None)\n",
    "    return keypoints, descriptors\n",
    "\n",
    "def compute_descriptors(\n",
    "    images: List[np.ndarray],\n",
    "    labels: Tuple,\n",
    "    detector: str,\n",
    "    n_features: int,\n",
    "    desc: str,\n",
    "    step_size: int = 10,\n",
    "    n_process: int = cpu_count(),\n",
    "    verbose: bool = False,\n",
    "    testing: bool = False):\n",
    "    \"\"\"\n",
    "    Compute descriptors for an image using a feature detector.\n",
    "    Descriptors are filtered (because images without descriptors are not useful)\n",
    "    and a numpy array with all the descriptors stacked together is built.\n",
    "    \"\"\"\n",
    "    detector_name, detector = get_detector(detector, n_features)\n",
    "    features = Parallel(n_jobs=n_process, prefer=\"threads\")(\n",
    "        delayed(compute_image_descriptors)(img, detector_name, detector, step_size) for img in tqdm(images, desc=desc, position=0, leave=verbose))\n",
    "    _, descriptors = list(zip(*features))\n",
    "    filtered_descriptors, filtered_labels = zip(*[(x, y) for x, y in zip(descriptors, labels) if x is not None])\n",
    "    if verbose:\n",
    "        print(f\"\\nprocessed {len(descriptors)} images, {detector.getDefaultName()} descriptors of n_features={n_features}\")\n",
    "        print(f\"\\n{len(descriptors) - len(filtered_descriptors)} images without keypoints (nor descriptors)\")\n",
    "    if testing: \n",
    "        return descriptors, labels\n",
    "    return filtered_descriptors, filtered_labels"
   ]
  },
  {
   "cell_type": "code",
   "execution_count": 21,
   "metadata": {},
   "outputs": [],
   "source": [
    "def generate_codebook(descriptors: np.ndarray, codebook_size: int = 128) -> MiniBatchKMeans:\n",
    "    \"\"\"\n",
    "    Generates a codebook from a given ndarray containing descriptors. Mainly, training descriptors\n",
    "    \"\"\"\n",
    "    D = np.vstack(descriptors)\n",
    "    codebook = MiniBatchKMeans(n_clusters=codebook_size, verbose=False, batch_size=128 * 20, compute_labels=False,\n",
    "        reassignment_ratio=10**-4, random_state=42, n_init='auto')\n",
    "    codebook.fit(D)\n",
    "    return codebook"
   ]
  },
  {
   "cell_type": "code",
   "execution_count": 8,
   "metadata": {},
   "outputs": [],
   "source": [
    "def compute_visual_words(descriptors: np.ndarray, desc: str, codebook: MiniBatchKMeans, codebook_size: int = 128,verbose: bool = False) -> np.ndarray:\n",
    "    \"\"\"\n",
    "    Computes the visual words of a set of descriptors given a codebook\n",
    "    \"\"\"\n",
    "    visual_words = np.zeros((len(descriptors), codebook_size), dtype=np.float32)\n",
    "    not_det = 0\n",
    "    for i in tqdm(range(len(descriptors)), desc=desc, position=0, leave=verbose):\n",
    "        if descriptors[i] is None:\n",
    "            not_det += 1\n",
    "            visual_words[i,:] = np.zeros(codebook_size, dtype=np.float32)\n",
    "        else:\n",
    "            words = codebook.predict(descriptors[i])\n",
    "            visual_words[i,:] = np.bincount(words, minlength=codebook_size)\n",
    "    if verbose:\n",
    "        print(f\"\\nGenerated {visual_words.shape[0]} histograms with a k={visual_words.shape[1]} vocabulary.\")\n",
    "        print(f'\\nNumber of images where keypoints were not detected: {not_det}')\n",
    "    return visual_words"
   ]
  },
  {
   "cell_type": "code",
   "execution_count": 7,
   "metadata": {},
   "outputs": [],
   "source": [
    "def evaluate_vw_predictions(visual_words,test_labels, knn):\n",
    "    \"\"\"\n",
    "    This function prints and returns the predictions' accuracy\n",
    "    \"\"\"\n",
    "    score = knn.score(visual_words, test_labels)\n",
    "    print(f'\\nThe trained model generates results with {100*score} accuracy.')\n",
    "    return score"
   ]
  },
  {
   "cell_type": "markdown",
   "metadata": {
    "cell_id": "9fd34289d7404c89b1edbddcc47f8d49",
    "deepnote_cell_type": "text-cell-h3",
    "formattedRanges": [],
    "is_collapsed": false,
    "tags": []
   },
   "source": [
    "### Read and preprocess data"
   ]
  },
  {
   "cell_type": "markdown",
   "metadata": {
    "cell_id": "18d35d473d974dd28ab19f666d3b455d",
    "deepnote_cell_type": "markdown"
   },
   "source": [
    "Let us first read the train and test files"
   ]
  },
  {
   "cell_type": "code",
   "execution_count": null,
   "metadata": {
    "cell_id": "fa5fba4b3ead4b4db0f6f6e1d0af6d63",
    "deepnote_cell_type": "code",
    "deepnote_to_be_reexecuted": false,
    "execution_millis": 43,
    "execution_start": 1672946215243,
    "source_hash": "168c78d9"
   },
   "outputs": [
    {
     "name": "stderr",
     "output_type": "stream",
     "text": [
      "Loading TRAIN images...: 100%|██████████| 1881/1881 [00:00<00:00, 2875.14it/s]\n"
     ]
    },
    {
     "name": "stdout",
     "output_type": "stream",
     "text": [
      "read: 1881 images\n"
     ]
    },
    {
     "name": "stderr",
     "output_type": "stream",
     "text": [
      "Loading TEST images...: 100%|██████████| 807/807 [00:00<00:00, 2928.73it/s]"
     ]
    },
    {
     "name": "stdout",
     "output_type": "stream",
     "text": [
      "read: 807 images\n"
     ]
    },
    {
     "name": "stderr",
     "output_type": "stream",
     "text": [
      "\n"
     ]
    }
   ],
   "source": [
    "train_images_filenames = pickle.load(open('MIT_split/train_images_filenames.dat',\"rb\"))\n",
    "test_images_filenames = pickle.load(open('MIT_split/test_images_filenames.dat',\"rb\"))\n",
    "train_images_filenames = ['..' + n[15:] for n in train_images_filenames]\n",
    "test_images_filenames  = ['..' + n[15:] for n in test_images_filenames]\n",
    "train_labels = pickle.load(open('MIT_split/train_labels.dat',\"rb\")) \n",
    "test_labels = pickle.load(open('MIT_split/test_labels.dat',\"rb\"))\n",
    "\n",
    "# We have to get rid of every '../' since we are working from a DeepNote environment\n",
    "# and the code is within the same folder\n",
    "train_images_filenames = preprocess_paths(train_images_filenames)\n",
    "test_images_filenames = preprocess_paths(test_images_filenames)\n",
    "\n",
    "# Load images\n",
    "train_images = load_images(files=train_images_filenames, desc='Loading TRAIN images...')\n",
    "test_images = load_images(files=test_images_filenames, desc='Loading TEST images...')"
   ]
  },
  {
   "attachments": {},
   "cell_type": "markdown",
   "metadata": {},
   "source": [
    "### Hyperparameter tunning with GridSearchCV\n",
    "For this section we want to answer the following question:\n",
    "\n",
    "<font color='green'>Test different amounts of local features. What performs best?</font> \n",
    "\n",
    "We perform a cross validated"
   ]
  },
  {
   "cell_type": "code",
   "execution_count": 26,
   "metadata": {
    "cell_id": "5a8f35d8963e4efb8ab42730224ccf03",
    "deepnote_cell_type": "code",
    "deepnote_to_be_reexecuted": false,
    "execution_millis": 1,
    "execution_start": 1672946215183,
    "source_hash": "1498b5c5",
    "tags": []
   },
   "outputs": [
    {
     "name": "stderr",
     "output_type": "stream",
     "text": [
      "                                                                                                                  \r"
     ]
    },
    {
     "name": "stdout",
     "output_type": "stream",
     "text": [
      "Appended GridSearchCV results for sift with 128 features and 32 codebook size.\n"
     ]
    },
    {
     "name": "stderr",
     "output_type": "stream",
     "text": [
      "                                                                                                                  \r"
     ]
    },
    {
     "name": "stdout",
     "output_type": "stream",
     "text": [
      "Appended GridSearchCV results for sift with 128 features and 64 codebook size.\n"
     ]
    },
    {
     "name": "stderr",
     "output_type": "stream",
     "text": [
      "                                                                                                                  \r"
     ]
    },
    {
     "name": "stdout",
     "output_type": "stream",
     "text": [
      "Appended GridSearchCV results for sift with 128 features and 96 codebook size.\n"
     ]
    },
    {
     "name": "stderr",
     "output_type": "stream",
     "text": [
      "                                                                                                                  \r"
     ]
    },
    {
     "name": "stdout",
     "output_type": "stream",
     "text": [
      "Appended GridSearchCV results for sift with 128 features and 128 codebook size.\n"
     ]
    },
    {
     "name": "stderr",
     "output_type": "stream",
     "text": [
      "                                                                                                                  \r"
     ]
    },
    {
     "name": "stdout",
     "output_type": "stream",
     "text": [
      "Appended GridSearchCV results for sift with 128 features and 160 codebook size.\n"
     ]
    },
    {
     "name": "stderr",
     "output_type": "stream",
     "text": [
      "                                                                                                                  \r"
     ]
    },
    {
     "name": "stdout",
     "output_type": "stream",
     "text": [
      "Appended GridSearchCV results for sift with 128 features and 192 codebook size.\n"
     ]
    },
    {
     "name": "stderr",
     "output_type": "stream",
     "text": [
      "                                                                                                                  \r"
     ]
    },
    {
     "name": "stdout",
     "output_type": "stream",
     "text": [
      "Appended GridSearchCV results for sift with 128 features and 224 codebook size.\n"
     ]
    },
    {
     "name": "stderr",
     "output_type": "stream",
     "text": [
      "                                                                                                                  \r"
     ]
    },
    {
     "name": "stdout",
     "output_type": "stream",
     "text": [
      "Appended GridSearchCV results for sift with 128 features and 256 codebook size.\n"
     ]
    },
    {
     "name": "stderr",
     "output_type": "stream",
     "text": [
      "                                                                                                                  \r"
     ]
    },
    {
     "name": "stdout",
     "output_type": "stream",
     "text": [
      "Appended GridSearchCV results for sift with 256 features and 32 codebook size.\n"
     ]
    },
    {
     "name": "stderr",
     "output_type": "stream",
     "text": [
      "                                                                                                                  \r"
     ]
    },
    {
     "name": "stdout",
     "output_type": "stream",
     "text": [
      "Appended GridSearchCV results for sift with 256 features and 64 codebook size.\n"
     ]
    },
    {
     "name": "stderr",
     "output_type": "stream",
     "text": [
      "                                                                                                                  \r"
     ]
    },
    {
     "name": "stdout",
     "output_type": "stream",
     "text": [
      "Appended GridSearchCV results for sift with 256 features and 96 codebook size.\n"
     ]
    },
    {
     "name": "stderr",
     "output_type": "stream",
     "text": [
      "                                                                                                                  \r"
     ]
    },
    {
     "name": "stdout",
     "output_type": "stream",
     "text": [
      "Appended GridSearchCV results for sift with 256 features and 128 codebook size.\n"
     ]
    },
    {
     "name": "stderr",
     "output_type": "stream",
     "text": [
      "                                                                                                                  \r"
     ]
    },
    {
     "name": "stdout",
     "output_type": "stream",
     "text": [
      "Appended GridSearchCV results for sift with 256 features and 160 codebook size.\n"
     ]
    },
    {
     "name": "stderr",
     "output_type": "stream",
     "text": [
      "                                                                                                                  \r"
     ]
    },
    {
     "name": "stdout",
     "output_type": "stream",
     "text": [
      "Appended GridSearchCV results for sift with 256 features and 192 codebook size.\n"
     ]
    },
    {
     "name": "stderr",
     "output_type": "stream",
     "text": [
      "                                                                                                                  \r"
     ]
    },
    {
     "name": "stdout",
     "output_type": "stream",
     "text": [
      "Appended GridSearchCV results for sift with 256 features and 224 codebook size.\n"
     ]
    },
    {
     "name": "stderr",
     "output_type": "stream",
     "text": [
      "                                                                                                                  \r"
     ]
    },
    {
     "name": "stdout",
     "output_type": "stream",
     "text": [
      "Appended GridSearchCV results for sift with 256 features and 256 codebook size.\n"
     ]
    },
    {
     "name": "stderr",
     "output_type": "stream",
     "text": [
      "                                                                                                                  \r"
     ]
    },
    {
     "name": "stdout",
     "output_type": "stream",
     "text": [
      "Appended GridSearchCV results for sift with 384 features and 32 codebook size.\n"
     ]
    },
    {
     "name": "stderr",
     "output_type": "stream",
     "text": [
      "                                                                                                                  \r"
     ]
    },
    {
     "name": "stdout",
     "output_type": "stream",
     "text": [
      "Appended GridSearchCV results for sift with 384 features and 64 codebook size.\n"
     ]
    },
    {
     "name": "stderr",
     "output_type": "stream",
     "text": [
      "                                                                                                                  \r"
     ]
    },
    {
     "name": "stdout",
     "output_type": "stream",
     "text": [
      "Appended GridSearchCV results for sift with 384 features and 96 codebook size.\n"
     ]
    },
    {
     "name": "stderr",
     "output_type": "stream",
     "text": [
      "                                                                                                                  \r"
     ]
    },
    {
     "name": "stdout",
     "output_type": "stream",
     "text": [
      "Appended GridSearchCV results for sift with 384 features and 128 codebook size.\n"
     ]
    },
    {
     "name": "stderr",
     "output_type": "stream",
     "text": [
      "                                                                                                                  \r"
     ]
    },
    {
     "name": "stdout",
     "output_type": "stream",
     "text": [
      "Appended GridSearchCV results for sift with 384 features and 160 codebook size.\n"
     ]
    },
    {
     "name": "stderr",
     "output_type": "stream",
     "text": [
      "                                                                                                                  \r"
     ]
    },
    {
     "name": "stdout",
     "output_type": "stream",
     "text": [
      "Appended GridSearchCV results for sift with 384 features and 192 codebook size.\n"
     ]
    },
    {
     "name": "stderr",
     "output_type": "stream",
     "text": [
      "                                                                                                                  \r"
     ]
    },
    {
     "name": "stdout",
     "output_type": "stream",
     "text": [
      "Appended GridSearchCV results for sift with 384 features and 224 codebook size.\n"
     ]
    },
    {
     "name": "stderr",
     "output_type": "stream",
     "text": [
      "                                                                                                                  \r"
     ]
    },
    {
     "name": "stdout",
     "output_type": "stream",
     "text": [
      "Appended GridSearchCV results for sift with 384 features and 256 codebook size.\n"
     ]
    },
    {
     "name": "stderr",
     "output_type": "stream",
     "text": [
      "                                                                                                                  \r"
     ]
    },
    {
     "name": "stdout",
     "output_type": "stream",
     "text": [
      "Appended GridSearchCV results for sift with 512 features and 32 codebook size.\n"
     ]
    },
    {
     "name": "stderr",
     "output_type": "stream",
     "text": [
      "                                                                                                                  \r"
     ]
    },
    {
     "name": "stdout",
     "output_type": "stream",
     "text": [
      "Appended GridSearchCV results for sift with 512 features and 64 codebook size.\n"
     ]
    },
    {
     "name": "stderr",
     "output_type": "stream",
     "text": [
      "                                                                                                                  \r"
     ]
    },
    {
     "name": "stdout",
     "output_type": "stream",
     "text": [
      "Appended GridSearchCV results for sift with 512 features and 96 codebook size.\n"
     ]
    },
    {
     "name": "stderr",
     "output_type": "stream",
     "text": [
      "                                                                                                                  \r"
     ]
    },
    {
     "name": "stdout",
     "output_type": "stream",
     "text": [
      "Appended GridSearchCV results for sift with 512 features and 128 codebook size.\n"
     ]
    },
    {
     "name": "stderr",
     "output_type": "stream",
     "text": [
      "                                                                                                                  \r"
     ]
    },
    {
     "name": "stdout",
     "output_type": "stream",
     "text": [
      "Appended GridSearchCV results for sift with 512 features and 160 codebook size.\n"
     ]
    },
    {
     "name": "stderr",
     "output_type": "stream",
     "text": [
      "                                                                                                                  \r"
     ]
    },
    {
     "name": "stdout",
     "output_type": "stream",
     "text": [
      "Appended GridSearchCV results for sift with 512 features and 192 codebook size.\n"
     ]
    },
    {
     "name": "stderr",
     "output_type": "stream",
     "text": [
      "                                                                                                                  \r"
     ]
    },
    {
     "name": "stdout",
     "output_type": "stream",
     "text": [
      "Appended GridSearchCV results for sift with 512 features and 224 codebook size.\n"
     ]
    },
    {
     "name": "stderr",
     "output_type": "stream",
     "text": [
      "                                                                                                                 \r"
     ]
    },
    {
     "name": "stdout",
     "output_type": "stream",
     "text": [
      "Appended GridSearchCV results for sift with 512 features and 256 codebook size.\n"
     ]
    },
    {
     "name": "stderr",
     "output_type": "stream",
     "text": [
      "                                                                                                                  \r"
     ]
    },
    {
     "name": "stdout",
     "output_type": "stream",
     "text": [
      "Appended GridSearchCV results for sift with 640 features and 32 codebook size.\n"
     ]
    },
    {
     "name": "stderr",
     "output_type": "stream",
     "text": [
      "                                                                                                                  \r"
     ]
    },
    {
     "name": "stdout",
     "output_type": "stream",
     "text": [
      "Appended GridSearchCV results for sift with 640 features and 64 codebook size.\n"
     ]
    },
    {
     "name": "stderr",
     "output_type": "stream",
     "text": [
      "                                                                                                                  \r"
     ]
    },
    {
     "name": "stdout",
     "output_type": "stream",
     "text": [
      "Appended GridSearchCV results for sift with 640 features and 96 codebook size.\n"
     ]
    },
    {
     "name": "stderr",
     "output_type": "stream",
     "text": [
      "                                                                                                                  \r"
     ]
    },
    {
     "name": "stdout",
     "output_type": "stream",
     "text": [
      "Appended GridSearchCV results for sift with 640 features and 128 codebook size.\n"
     ]
    },
    {
     "name": "stderr",
     "output_type": "stream",
     "text": [
      "                                                                                                                  \r"
     ]
    },
    {
     "name": "stdout",
     "output_type": "stream",
     "text": [
      "Appended GridSearchCV results for sift with 640 features and 160 codebook size.\n"
     ]
    },
    {
     "name": "stderr",
     "output_type": "stream",
     "text": [
      "                                                                                                                  \r"
     ]
    },
    {
     "name": "stdout",
     "output_type": "stream",
     "text": [
      "Appended GridSearchCV results for sift with 640 features and 192 codebook size.\n"
     ]
    },
    {
     "name": "stderr",
     "output_type": "stream",
     "text": [
      "                                                                                                                  \r"
     ]
    },
    {
     "name": "stdout",
     "output_type": "stream",
     "text": [
      "Appended GridSearchCV results for sift with 640 features and 224 codebook size.\n"
     ]
    },
    {
     "name": "stderr",
     "output_type": "stream",
     "text": [
      "                                                                                                                 \r"
     ]
    },
    {
     "name": "stdout",
     "output_type": "stream",
     "text": [
      "Appended GridSearchCV results for sift with 640 features and 256 codebook size.\n"
     ]
    },
    {
     "name": "stderr",
     "output_type": "stream",
     "text": [
      "                                                                                                                  \r"
     ]
    },
    {
     "name": "stdout",
     "output_type": "stream",
     "text": [
      "Appended GridSearchCV results for sift with 768 features and 32 codebook size.\n"
     ]
    },
    {
     "name": "stderr",
     "output_type": "stream",
     "text": [
      "                                                                                                                  \r"
     ]
    },
    {
     "name": "stdout",
     "output_type": "stream",
     "text": [
      "Appended GridSearchCV results for sift with 768 features and 64 codebook size.\n"
     ]
    },
    {
     "name": "stderr",
     "output_type": "stream",
     "text": [
      "                                                                                                                  \r"
     ]
    },
    {
     "name": "stdout",
     "output_type": "stream",
     "text": [
      "Appended GridSearchCV results for sift with 768 features and 96 codebook size.\n"
     ]
    },
    {
     "name": "stderr",
     "output_type": "stream",
     "text": [
      "                                                                                                                  \r"
     ]
    },
    {
     "name": "stdout",
     "output_type": "stream",
     "text": [
      "Appended GridSearchCV results for sift with 768 features and 128 codebook size.\n"
     ]
    },
    {
     "name": "stderr",
     "output_type": "stream",
     "text": [
      "                                                                                                                  \r"
     ]
    },
    {
     "name": "stdout",
     "output_type": "stream",
     "text": [
      "Appended GridSearchCV results for sift with 768 features and 160 codebook size.\n"
     ]
    },
    {
     "name": "stderr",
     "output_type": "stream",
     "text": [
      "                                                                                                                  \r"
     ]
    },
    {
     "name": "stdout",
     "output_type": "stream",
     "text": [
      "Appended GridSearchCV results for sift with 768 features and 192 codebook size.\n"
     ]
    },
    {
     "name": "stderr",
     "output_type": "stream",
     "text": [
      "                                                                                                                  \r"
     ]
    },
    {
     "name": "stdout",
     "output_type": "stream",
     "text": [
      "Appended GridSearchCV results for sift with 768 features and 224 codebook size.\n"
     ]
    },
    {
     "name": "stderr",
     "output_type": "stream",
     "text": [
      "                                                                                                                 \r"
     ]
    },
    {
     "name": "stdout",
     "output_type": "stream",
     "text": [
      "Appended GridSearchCV results for sift with 768 features and 256 codebook size.\n"
     ]
    },
    {
     "name": "stderr",
     "output_type": "stream",
     "text": [
      "                                                                                                                  \r"
     ]
    },
    {
     "name": "stdout",
     "output_type": "stream",
     "text": [
      "Appended GridSearchCV results for sift with 896 features and 32 codebook size.\n"
     ]
    },
    {
     "name": "stderr",
     "output_type": "stream",
     "text": [
      "                                                                                                                  \r"
     ]
    },
    {
     "name": "stdout",
     "output_type": "stream",
     "text": [
      "Appended GridSearchCV results for sift with 896 features and 64 codebook size.\n"
     ]
    },
    {
     "name": "stderr",
     "output_type": "stream",
     "text": [
      "                                                                                                                  \r"
     ]
    },
    {
     "name": "stdout",
     "output_type": "stream",
     "text": [
      "Appended GridSearchCV results for sift with 896 features and 96 codebook size.\n"
     ]
    },
    {
     "name": "stderr",
     "output_type": "stream",
     "text": [
      "                                                                                                                  \r"
     ]
    },
    {
     "name": "stdout",
     "output_type": "stream",
     "text": [
      "Appended GridSearchCV results for sift with 896 features and 128 codebook size.\n"
     ]
    },
    {
     "name": "stderr",
     "output_type": "stream",
     "text": [
      "                                                                                                                 \r"
     ]
    },
    {
     "name": "stdout",
     "output_type": "stream",
     "text": [
      "Appended GridSearchCV results for sift with 896 features and 160 codebook size.\n"
     ]
    },
    {
     "name": "stderr",
     "output_type": "stream",
     "text": [
      "                                                                                                                 \r"
     ]
    },
    {
     "name": "stdout",
     "output_type": "stream",
     "text": [
      "Appended GridSearchCV results for sift with 896 features and 192 codebook size.\n"
     ]
    },
    {
     "name": "stderr",
     "output_type": "stream",
     "text": [
      "                                                                                                                 \r"
     ]
    },
    {
     "name": "stdout",
     "output_type": "stream",
     "text": [
      "Appended GridSearchCV results for sift with 896 features and 224 codebook size.\n"
     ]
    },
    {
     "name": "stderr",
     "output_type": "stream",
     "text": [
      "                                                                                                                 \r"
     ]
    },
    {
     "name": "stdout",
     "output_type": "stream",
     "text": [
      "Appended GridSearchCV results for sift with 896 features and 256 codebook size.\n"
     ]
    },
    {
     "name": "stderr",
     "output_type": "stream",
     "text": [
      "                                                                                                                  \r"
     ]
    },
    {
     "name": "stdout",
     "output_type": "stream",
     "text": [
      "Appended GridSearchCV results for sift with 1024 features and 32 codebook size.\n"
     ]
    },
    {
     "name": "stderr",
     "output_type": "stream",
     "text": [
      "                                                                                                                 \r"
     ]
    },
    {
     "name": "stdout",
     "output_type": "stream",
     "text": [
      "Appended GridSearchCV results for sift with 1024 features and 64 codebook size.\n"
     ]
    },
    {
     "name": "stderr",
     "output_type": "stream",
     "text": [
      "                                                                                                                  \r"
     ]
    },
    {
     "name": "stdout",
     "output_type": "stream",
     "text": [
      "Appended GridSearchCV results for sift with 1024 features and 96 codebook size.\n"
     ]
    },
    {
     "name": "stderr",
     "output_type": "stream",
     "text": [
      "                                                                                                                 \r"
     ]
    },
    {
     "name": "stdout",
     "output_type": "stream",
     "text": [
      "Appended GridSearchCV results for sift with 1024 features and 128 codebook size.\n"
     ]
    },
    {
     "name": "stderr",
     "output_type": "stream",
     "text": [
      "                                                                                                                  \r"
     ]
    },
    {
     "name": "stdout",
     "output_type": "stream",
     "text": [
      "Appended GridSearchCV results for sift with 1024 features and 160 codebook size.\n"
     ]
    },
    {
     "name": "stderr",
     "output_type": "stream",
     "text": [
      "                                                                                                                 \r"
     ]
    },
    {
     "name": "stdout",
     "output_type": "stream",
     "text": [
      "Appended GridSearchCV results for sift with 1024 features and 192 codebook size.\n"
     ]
    },
    {
     "name": "stderr",
     "output_type": "stream",
     "text": [
      "                                                                                                                 \r"
     ]
    },
    {
     "name": "stdout",
     "output_type": "stream",
     "text": [
      "Appended GridSearchCV results for sift with 1024 features and 224 codebook size.\n"
     ]
    },
    {
     "name": "stderr",
     "output_type": "stream",
     "text": [
      "                                                                                                                 \r"
     ]
    },
    {
     "name": "stdout",
     "output_type": "stream",
     "text": [
      "Appended GridSearchCV results for sift with 1024 features and 256 codebook size.\n"
     ]
    },
    {
     "name": "stderr",
     "output_type": "stream",
     "text": [
      "                                                                                                                  \r"
     ]
    },
    {
     "name": "stdout",
     "output_type": "stream",
     "text": [
      "Appended GridSearchCV results for akaze with 128 features and 32 codebook size.\n"
     ]
    },
    {
     "name": "stderr",
     "output_type": "stream",
     "text": [
      "                                                                                                                  \r"
     ]
    },
    {
     "name": "stdout",
     "output_type": "stream",
     "text": [
      "Appended GridSearchCV results for akaze with 128 features and 64 codebook size.\n"
     ]
    },
    {
     "name": "stderr",
     "output_type": "stream",
     "text": [
      "                                                                                                                  \r"
     ]
    },
    {
     "name": "stdout",
     "output_type": "stream",
     "text": [
      "Appended GridSearchCV results for akaze with 128 features and 96 codebook size.\n"
     ]
    },
    {
     "name": "stderr",
     "output_type": "stream",
     "text": [
      "                                                                                                                  \r"
     ]
    },
    {
     "name": "stdout",
     "output_type": "stream",
     "text": [
      "Appended GridSearchCV results for akaze with 128 features and 128 codebook size.\n"
     ]
    },
    {
     "name": "stderr",
     "output_type": "stream",
     "text": [
      "                                                                                                                  \r"
     ]
    },
    {
     "name": "stdout",
     "output_type": "stream",
     "text": [
      "Appended GridSearchCV results for akaze with 128 features and 160 codebook size.\n"
     ]
    },
    {
     "name": "stderr",
     "output_type": "stream",
     "text": [
      "                                                                                                                  \r"
     ]
    },
    {
     "name": "stdout",
     "output_type": "stream",
     "text": [
      "Appended GridSearchCV results for akaze with 128 features and 192 codebook size.\n"
     ]
    },
    {
     "name": "stderr",
     "output_type": "stream",
     "text": [
      "                                                                                                                  \r"
     ]
    },
    {
     "name": "stdout",
     "output_type": "stream",
     "text": [
      "Appended GridSearchCV results for akaze with 128 features and 224 codebook size.\n"
     ]
    },
    {
     "name": "stderr",
     "output_type": "stream",
     "text": [
      "                                                                                                                  \r"
     ]
    },
    {
     "name": "stdout",
     "output_type": "stream",
     "text": [
      "Appended GridSearchCV results for akaze with 128 features and 256 codebook size.\n"
     ]
    },
    {
     "name": "stderr",
     "output_type": "stream",
     "text": [
      "                                                                                                                  \r"
     ]
    },
    {
     "name": "stdout",
     "output_type": "stream",
     "text": [
      "Appended GridSearchCV results for akaze with 256 features and 32 codebook size.\n"
     ]
    },
    {
     "name": "stderr",
     "output_type": "stream",
     "text": [
      "                                                                                                                  \r"
     ]
    },
    {
     "name": "stdout",
     "output_type": "stream",
     "text": [
      "Appended GridSearchCV results for akaze with 256 features and 64 codebook size.\n"
     ]
    },
    {
     "name": "stderr",
     "output_type": "stream",
     "text": [
      "                                                                                                                  \r"
     ]
    },
    {
     "name": "stdout",
     "output_type": "stream",
     "text": [
      "Appended GridSearchCV results for akaze with 256 features and 96 codebook size.\n"
     ]
    },
    {
     "name": "stderr",
     "output_type": "stream",
     "text": [
      "                                                                                                                  \r"
     ]
    },
    {
     "name": "stdout",
     "output_type": "stream",
     "text": [
      "Appended GridSearchCV results for akaze with 256 features and 128 codebook size.\n"
     ]
    },
    {
     "name": "stderr",
     "output_type": "stream",
     "text": [
      "                                                                                                                  \r"
     ]
    },
    {
     "name": "stdout",
     "output_type": "stream",
     "text": [
      "Appended GridSearchCV results for akaze with 256 features and 160 codebook size.\n"
     ]
    },
    {
     "name": "stderr",
     "output_type": "stream",
     "text": [
      "                                                                                                                  \r"
     ]
    },
    {
     "name": "stdout",
     "output_type": "stream",
     "text": [
      "Appended GridSearchCV results for akaze with 256 features and 192 codebook size.\n"
     ]
    },
    {
     "name": "stderr",
     "output_type": "stream",
     "text": [
      "                                                                                                                  \r"
     ]
    },
    {
     "name": "stdout",
     "output_type": "stream",
     "text": [
      "Appended GridSearchCV results for akaze with 256 features and 224 codebook size.\n"
     ]
    },
    {
     "name": "stderr",
     "output_type": "stream",
     "text": [
      "                                                                                                                  \r"
     ]
    },
    {
     "name": "stdout",
     "output_type": "stream",
     "text": [
      "Appended GridSearchCV results for akaze with 256 features and 256 codebook size.\n"
     ]
    },
    {
     "name": "stderr",
     "output_type": "stream",
     "text": [
      "                                                                                                                  \r"
     ]
    },
    {
     "name": "stdout",
     "output_type": "stream",
     "text": [
      "Appended GridSearchCV results for akaze with 384 features and 32 codebook size.\n"
     ]
    },
    {
     "name": "stderr",
     "output_type": "stream",
     "text": [
      "                                                                                                                  \r"
     ]
    },
    {
     "name": "stdout",
     "output_type": "stream",
     "text": [
      "Appended GridSearchCV results for akaze with 384 features and 64 codebook size.\n"
     ]
    },
    {
     "name": "stderr",
     "output_type": "stream",
     "text": [
      "                                                                                                                  \r"
     ]
    },
    {
     "name": "stdout",
     "output_type": "stream",
     "text": [
      "Appended GridSearchCV results for akaze with 384 features and 96 codebook size.\n"
     ]
    },
    {
     "name": "stderr",
     "output_type": "stream",
     "text": [
      "                                                                                                                  \r"
     ]
    },
    {
     "name": "stdout",
     "output_type": "stream",
     "text": [
      "Appended GridSearchCV results for akaze with 384 features and 128 codebook size.\n"
     ]
    },
    {
     "name": "stderr",
     "output_type": "stream",
     "text": [
      "                                                                                                                  \r"
     ]
    },
    {
     "name": "stdout",
     "output_type": "stream",
     "text": [
      "Appended GridSearchCV results for akaze with 384 features and 160 codebook size.\n"
     ]
    },
    {
     "name": "stderr",
     "output_type": "stream",
     "text": [
      "                                                                                                                  \r"
     ]
    },
    {
     "name": "stdout",
     "output_type": "stream",
     "text": [
      "Appended GridSearchCV results for akaze with 384 features and 192 codebook size.\n"
     ]
    },
    {
     "name": "stderr",
     "output_type": "stream",
     "text": [
      "                                                                                                                  \r"
     ]
    },
    {
     "name": "stdout",
     "output_type": "stream",
     "text": [
      "Appended GridSearchCV results for akaze with 384 features and 224 codebook size.\n"
     ]
    },
    {
     "name": "stderr",
     "output_type": "stream",
     "text": [
      "                                                                                                                  \r"
     ]
    },
    {
     "name": "stdout",
     "output_type": "stream",
     "text": [
      "Appended GridSearchCV results for akaze with 384 features and 256 codebook size.\n"
     ]
    },
    {
     "name": "stderr",
     "output_type": "stream",
     "text": [
      "Computing descriptors for TRAIN images...:   0%|          | 0/1881 [00:00<?, ?it/s]"
     ]
    },
    {
     "ename": "error",
     "evalue": "OpenCV(4.6.0) D:\\a\\opencv-python\\opencv-python\\opencv\\modules\\features2d\\src\\kaze\\AKAZEFeatures.cpp:2225: error: (-215:Assertion failed) nbits <= ssz && \"Descriptor size can't be bigger than full descriptor (486 = 162*3 - 3 channels)\" in function 'cv::generateDescriptorSubsample'\n",
     "output_type": "error",
     "traceback": [
      "\u001B[1;31m---------------------------------------------------------------------------\u001B[0m",
      "\u001B[1;31merror\u001B[0m                                     Traceback (most recent call last)",
      "Cell \u001B[1;32mIn[26], line 18\u001B[0m\n\u001B[0;32m     15\u001B[0m \u001B[39mif\u001B[39;00m detector \u001B[39m!=\u001B[39m \u001B[39m'\u001B[39m\u001B[39mdense_sift\u001B[39m\u001B[39m'\u001B[39m:\n\u001B[0;32m     16\u001B[0m     \u001B[39mfor\u001B[39;00m n_features \u001B[39min\u001B[39;00m params[\u001B[39m'\u001B[39m\u001B[39mn_features\u001B[39m\u001B[39m'\u001B[39m]:\n\u001B[1;32m---> 18\u001B[0m         train_descriptors, filtered_train_labels \u001B[39m=\u001B[39m compute_descriptors(\n\u001B[0;32m     19\u001B[0m             images\u001B[39m=\u001B[39;49mtrain_images,\n\u001B[0;32m     20\u001B[0m             labels\u001B[39m=\u001B[39;49mtrain_labels,\n\u001B[0;32m     21\u001B[0m             detector\u001B[39m=\u001B[39;49mdetector,\n\u001B[0;32m     22\u001B[0m             n_features\u001B[39m=\u001B[39;49mn_features,\n\u001B[0;32m     23\u001B[0m             desc\u001B[39m=\u001B[39;49m\u001B[39m'\u001B[39;49m\u001B[39mComputing descriptors for TRAIN images...\u001B[39;49m\u001B[39m'\u001B[39;49m\n\u001B[0;32m     24\u001B[0m         )\n\u001B[0;32m     25\u001B[0m         \u001B[39mfor\u001B[39;00m codebook_size \u001B[39min\u001B[39;00m params[\u001B[39m'\u001B[39m\u001B[39mcodebook_size\u001B[39m\u001B[39m'\u001B[39m]:\n\u001B[0;32m     27\u001B[0m             cbook \u001B[39m=\u001B[39m generate_codebook(train_descriptors, codebook_size\u001B[39m=\u001B[39mcodebook_size)\n",
      "Cell \u001B[1;32mIn[5], line 29\u001B[0m, in \u001B[0;36mcompute_descriptors\u001B[1;34m(images, labels, detector, n_features, desc, step_size, n_process, verbose, testing)\u001B[0m\n\u001B[0;32m     23\u001B[0m \u001B[39m\"\"\"\u001B[39;00m\n\u001B[0;32m     24\u001B[0m \u001B[39mCompute descriptors for an image using a feature detector.\u001B[39;00m\n\u001B[0;32m     25\u001B[0m \u001B[39mDescriptors are filtered (because images without descriptors are not useful)\u001B[39;00m\n\u001B[0;32m     26\u001B[0m \u001B[39mand a numpy array with all the descriptors stacked together is built.\u001B[39;00m\n\u001B[0;32m     27\u001B[0m \u001B[39m\"\"\"\u001B[39;00m\n\u001B[0;32m     28\u001B[0m detector_name, detector \u001B[39m=\u001B[39m get_detector(detector, n_features)\n\u001B[1;32m---> 29\u001B[0m features \u001B[39m=\u001B[39m Parallel(n_jobs\u001B[39m=\u001B[39;49mn_process, prefer\u001B[39m=\u001B[39;49m\u001B[39m\"\u001B[39;49m\u001B[39mthreads\u001B[39;49m\u001B[39m\"\u001B[39;49m)(\n\u001B[0;32m     30\u001B[0m     delayed(compute_image_descriptors)(img, detector_name, detector, step_size) \u001B[39mfor\u001B[39;49;00m img \u001B[39min\u001B[39;49;00m tqdm(images, desc\u001B[39m=\u001B[39;49mdesc, position\u001B[39m=\u001B[39;49m\u001B[39m0\u001B[39;49m, leave\u001B[39m=\u001B[39;49mverbose))\n\u001B[0;32m     31\u001B[0m _, descriptors \u001B[39m=\u001B[39m \u001B[39mlist\u001B[39m(\u001B[39mzip\u001B[39m(\u001B[39m*\u001B[39mfeatures))\n\u001B[0;32m     32\u001B[0m filtered_descriptors, filtered_labels \u001B[39m=\u001B[39m \u001B[39mzip\u001B[39m(\u001B[39m*\u001B[39m[(x, y) \u001B[39mfor\u001B[39;00m x, y \u001B[39min\u001B[39;00m \u001B[39mzip\u001B[39m(descriptors, labels) \u001B[39mif\u001B[39;00m x \u001B[39mis\u001B[39;00m \u001B[39mnot\u001B[39;00m \u001B[39mNone\u001B[39;00m])\n",
      "File \u001B[1;32mc:\\Users\\Guillem\\Desktop\\MCV-M3-Project\\venv\\lib\\site-packages\\joblib\\parallel.py:1098\u001B[0m, in \u001B[0;36mParallel.__call__\u001B[1;34m(self, iterable)\u001B[0m\n\u001B[0;32m   1095\u001B[0m     \u001B[39mself\u001B[39m\u001B[39m.\u001B[39m_iterating \u001B[39m=\u001B[39m \u001B[39mFalse\u001B[39;00m\n\u001B[0;32m   1097\u001B[0m \u001B[39mwith\u001B[39;00m \u001B[39mself\u001B[39m\u001B[39m.\u001B[39m_backend\u001B[39m.\u001B[39mretrieval_context():\n\u001B[1;32m-> 1098\u001B[0m     \u001B[39mself\u001B[39;49m\u001B[39m.\u001B[39;49mretrieve()\n\u001B[0;32m   1099\u001B[0m \u001B[39m# Make sure that we get a last message telling us we are done\u001B[39;00m\n\u001B[0;32m   1100\u001B[0m elapsed_time \u001B[39m=\u001B[39m time\u001B[39m.\u001B[39mtime() \u001B[39m-\u001B[39m \u001B[39mself\u001B[39m\u001B[39m.\u001B[39m_start_time\n",
      "File \u001B[1;32mc:\\Users\\Guillem\\Desktop\\MCV-M3-Project\\venv\\lib\\site-packages\\joblib\\parallel.py:975\u001B[0m, in \u001B[0;36mParallel.retrieve\u001B[1;34m(self)\u001B[0m\n\u001B[0;32m    973\u001B[0m \u001B[39mtry\u001B[39;00m:\n\u001B[0;32m    974\u001B[0m     \u001B[39mif\u001B[39;00m \u001B[39mgetattr\u001B[39m(\u001B[39mself\u001B[39m\u001B[39m.\u001B[39m_backend, \u001B[39m'\u001B[39m\u001B[39msupports_timeout\u001B[39m\u001B[39m'\u001B[39m, \u001B[39mFalse\u001B[39;00m):\n\u001B[1;32m--> 975\u001B[0m         \u001B[39mself\u001B[39m\u001B[39m.\u001B[39m_output\u001B[39m.\u001B[39mextend(job\u001B[39m.\u001B[39;49mget(timeout\u001B[39m=\u001B[39;49m\u001B[39mself\u001B[39;49m\u001B[39m.\u001B[39;49mtimeout))\n\u001B[0;32m    976\u001B[0m     \u001B[39melse\u001B[39;00m:\n\u001B[0;32m    977\u001B[0m         \u001B[39mself\u001B[39m\u001B[39m.\u001B[39m_output\u001B[39m.\u001B[39mextend(job\u001B[39m.\u001B[39mget())\n",
      "File \u001B[1;32m~\\AppData\\Local\\Programs\\Python\\Python39\\lib\\multiprocessing\\pool.py:771\u001B[0m, in \u001B[0;36mApplyResult.get\u001B[1;34m(self, timeout)\u001B[0m\n\u001B[0;32m    769\u001B[0m     \u001B[39mreturn\u001B[39;00m \u001B[39mself\u001B[39m\u001B[39m.\u001B[39m_value\n\u001B[0;32m    770\u001B[0m \u001B[39melse\u001B[39;00m:\n\u001B[1;32m--> 771\u001B[0m     \u001B[39mraise\u001B[39;00m \u001B[39mself\u001B[39m\u001B[39m.\u001B[39m_value\n",
      "File \u001B[1;32m~\\AppData\\Local\\Programs\\Python\\Python39\\lib\\multiprocessing\\pool.py:125\u001B[0m, in \u001B[0;36mworker\u001B[1;34m(inqueue, outqueue, initializer, initargs, maxtasks, wrap_exception)\u001B[0m\n\u001B[0;32m    123\u001B[0m job, i, func, args, kwds \u001B[39m=\u001B[39m task\n\u001B[0;32m    124\u001B[0m \u001B[39mtry\u001B[39;00m:\n\u001B[1;32m--> 125\u001B[0m     result \u001B[39m=\u001B[39m (\u001B[39mTrue\u001B[39;00m, func(\u001B[39m*\u001B[39margs, \u001B[39m*\u001B[39m\u001B[39m*\u001B[39mkwds))\n\u001B[0;32m    126\u001B[0m \u001B[39mexcept\u001B[39;00m \u001B[39mException\u001B[39;00m \u001B[39mas\u001B[39;00m e:\n\u001B[0;32m    127\u001B[0m     \u001B[39mif\u001B[39;00m wrap_exception \u001B[39mand\u001B[39;00m func \u001B[39mis\u001B[39;00m \u001B[39mnot\u001B[39;00m _helper_reraises_exception:\n",
      "File \u001B[1;32mc:\\Users\\Guillem\\Desktop\\MCV-M3-Project\\venv\\lib\\site-packages\\joblib\\_parallel_backends.py:620\u001B[0m, in \u001B[0;36mSafeFunction.__call__\u001B[1;34m(self, *args, **kwargs)\u001B[0m\n\u001B[0;32m    618\u001B[0m \u001B[39mdef\u001B[39;00m \u001B[39m__call__\u001B[39m(\u001B[39mself\u001B[39m, \u001B[39m*\u001B[39margs, \u001B[39m*\u001B[39m\u001B[39m*\u001B[39mkwargs):\n\u001B[0;32m    619\u001B[0m     \u001B[39mtry\u001B[39;00m:\n\u001B[1;32m--> 620\u001B[0m         \u001B[39mreturn\u001B[39;00m \u001B[39mself\u001B[39m\u001B[39m.\u001B[39mfunc(\u001B[39m*\u001B[39margs, \u001B[39m*\u001B[39m\u001B[39m*\u001B[39mkwargs)\n\u001B[0;32m    621\u001B[0m     \u001B[39mexcept\u001B[39;00m \u001B[39mKeyboardInterrupt\u001B[39;00m \u001B[39mas\u001B[39;00m e:\n\u001B[0;32m    622\u001B[0m         \u001B[39m# We capture the KeyboardInterrupt and reraise it as\u001B[39;00m\n\u001B[0;32m    623\u001B[0m         \u001B[39m# something different, as multiprocessing does not\u001B[39;00m\n\u001B[0;32m    624\u001B[0m         \u001B[39m# interrupt processing for a KeyboardInterrupt\u001B[39;00m\n\u001B[0;32m    625\u001B[0m         \u001B[39mraise\u001B[39;00m WorkerInterrupt() \u001B[39mfrom\u001B[39;00m \u001B[39me\u001B[39;00m\n",
      "File \u001B[1;32mc:\\Users\\Guillem\\Desktop\\MCV-M3-Project\\venv\\lib\\site-packages\\joblib\\parallel.py:288\u001B[0m, in \u001B[0;36mBatchedCalls.__call__\u001B[1;34m(self)\u001B[0m\n\u001B[0;32m    284\u001B[0m \u001B[39mdef\u001B[39;00m \u001B[39m__call__\u001B[39m(\u001B[39mself\u001B[39m):\n\u001B[0;32m    285\u001B[0m     \u001B[39m# Set the default nested backend to self._backend but do not set the\u001B[39;00m\n\u001B[0;32m    286\u001B[0m     \u001B[39m# change the default number of processes to -1\u001B[39;00m\n\u001B[0;32m    287\u001B[0m     \u001B[39mwith\u001B[39;00m parallel_backend(\u001B[39mself\u001B[39m\u001B[39m.\u001B[39m_backend, n_jobs\u001B[39m=\u001B[39m\u001B[39mself\u001B[39m\u001B[39m.\u001B[39m_n_jobs):\n\u001B[1;32m--> 288\u001B[0m         \u001B[39mreturn\u001B[39;00m [func(\u001B[39m*\u001B[39margs, \u001B[39m*\u001B[39m\u001B[39m*\u001B[39mkwargs)\n\u001B[0;32m    289\u001B[0m                 \u001B[39mfor\u001B[39;00m func, args, kwargs \u001B[39min\u001B[39;00m \u001B[39mself\u001B[39m\u001B[39m.\u001B[39mitems]\n",
      "File \u001B[1;32mc:\\Users\\Guillem\\Desktop\\MCV-M3-Project\\venv\\lib\\site-packages\\joblib\\parallel.py:288\u001B[0m, in \u001B[0;36m<listcomp>\u001B[1;34m(.0)\u001B[0m\n\u001B[0;32m    284\u001B[0m \u001B[39mdef\u001B[39;00m \u001B[39m__call__\u001B[39m(\u001B[39mself\u001B[39m):\n\u001B[0;32m    285\u001B[0m     \u001B[39m# Set the default nested backend to self._backend but do not set the\u001B[39;00m\n\u001B[0;32m    286\u001B[0m     \u001B[39m# change the default number of processes to -1\u001B[39;00m\n\u001B[0;32m    287\u001B[0m     \u001B[39mwith\u001B[39;00m parallel_backend(\u001B[39mself\u001B[39m\u001B[39m.\u001B[39m_backend, n_jobs\u001B[39m=\u001B[39m\u001B[39mself\u001B[39m\u001B[39m.\u001B[39m_n_jobs):\n\u001B[1;32m--> 288\u001B[0m         \u001B[39mreturn\u001B[39;00m [func(\u001B[39m*\u001B[39margs, \u001B[39m*\u001B[39m\u001B[39m*\u001B[39mkwargs)\n\u001B[0;32m    289\u001B[0m                 \u001B[39mfor\u001B[39;00m func, args, kwargs \u001B[39min\u001B[39;00m \u001B[39mself\u001B[39m\u001B[39m.\u001B[39mitems]\n",
      "Cell \u001B[1;32mIn[5], line 10\u001B[0m, in \u001B[0;36mcompute_image_descriptors\u001B[1;34m(image, detector_name, detector, step_size)\u001B[0m\n\u001B[0;32m      8\u001B[0m     _, descriptors \u001B[39m=\u001B[39m detector\u001B[39m.\u001B[39mcompute(gray, keypoints)\n\u001B[0;32m      9\u001B[0m \u001B[39melse\u001B[39;00m:\n\u001B[1;32m---> 10\u001B[0m     keypoints, descriptors \u001B[39m=\u001B[39m detector\u001B[39m.\u001B[39;49mdetectAndCompute(gray, \u001B[39mNone\u001B[39;49;00m)\n\u001B[0;32m     11\u001B[0m \u001B[39mreturn\u001B[39;00m keypoints, descriptors\n",
      "\u001B[1;31merror\u001B[0m: OpenCV(4.6.0) D:\\a\\opencv-python\\opencv-python\\opencv\\modules\\features2d\\src\\kaze\\AKAZEFeatures.cpp:2225: error: (-215:Assertion failed) nbits <= ssz && \"Descriptor size can't be bigger than full descriptor (486 = 162*3 - 3 channels)\" in function 'cv::generateDescriptorSubsample'\n"
     ]
    }
   ],
   "source": [
    "params = {\n",
    "    'detector': ['sift', 'akaze'],\n",
    "    'n_features': np.arange(128, 1025, 128),\n",
    "    'codebook_size': np.arange(32, 257, 32),\n",
    "    'n_neighbors': [3, 5, 7, 13, 15, 19],\n",
    "    'metric': [\"euclidean\", \"manhattan\", \"chebyshev\", \"minkowski\"]\n",
    "}\n",
    "\n",
    "evaluation_metrics = ['accuracy', 'f1_weighted']\n",
    "results_folder = 'results'\n",
    "filename = 'hyper_params_knn.csv'\n",
    "\n",
    "results = []\n",
    "for detector in params['detector']:\n",
    "    if detector != 'dense_sift':\n",
    "        for n_features in params['n_features']:\n",
    "\n",
    "            train_descriptors, filtered_train_labels = compute_descriptors(\n",
    "                images=train_images,\n",
    "                labels=train_labels,\n",
    "                detector=detector,\n",
    "                n_features=n_features,\n",
    "                desc='Computing descriptors for TRAIN images...'\n",
    "            )\n",
    "            for codebook_size in params['codebook_size']:\n",
    "                \n",
    "                cbook = generate_codebook(train_descriptors, codebook_size=codebook_size)\n",
    "                train_visual_words = compute_visual_words(\n",
    "                    descriptors=train_descriptors,\n",
    "                    codebook=cbook,\n",
    "                    codebook_size=codebook_size,\n",
    "                    desc=\"Computing visual words vocabulary with TRAIN descriptors...\"\n",
    "                )\n",
    "\n",
    "                clf = KNeighborsClassifier(n_jobs=-1)\n",
    "                clf_grid = GridSearchCV(\n",
    "                    estimator=clf,\n",
    "                    param_grid={k: params[k] for k in ('n_neighbors', 'metric') if k in params},\n",
    "                    cv=8,\n",
    "                    scoring=evaluation_metrics,\n",
    "                    refit=\"accuracy\",\n",
    "                    return_train_score=True)\n",
    "                clf_grid.fit(train_visual_words, filtered_train_labels)\n",
    "\n",
    "                idx_best_accuracy = np.argmin(clf_grid.cv_results_['rank_test_accuracy'])\n",
    "\n",
    "                # Params\n",
    "                n_neighbors = clf_grid.best_params_['n_neighbors']\n",
    "                distance = clf_grid.best_params_['metric']\n",
    "                step_size = \"-\"\n",
    "                \n",
    "                results_data = [detector, n_features, step_size, codebook_size, n_neighbors, distance]\n",
    "\n",
    "                # Scores\n",
    "                for eval_metric in evaluation_metrics:\n",
    "                    train_score = clf_grid.cv_results_['mean_train_' + eval_metric][idx_best_accuracy]\n",
    "                    val_score = clf_grid.cv_results_['mean_test_' + eval_metric][idx_best_accuracy]\n",
    "                    std_train_score = clf_grid.cv_results_['std_train_' + eval_metric][idx_best_accuracy]\n",
    "                    std_val_score = clf_grid.cv_results_['std_test_' + eval_metric][idx_best_accuracy]\n",
    "                    results_data.extend([train_score, val_score, std_train_score, std_val_score])\n",
    "\n",
    "                results.append(results_data)\n",
    "                print(f\"Appended GridSearchCV results for {detector} with {n_features} features and {codebook_size} codebook size.\")\n",
    "            \n",
    "columns = ['detector', 'n_features','step_size', 'codebook_size', 'n_neighbors', 'distance'] \\\n",
    "\n",
    "for eval_metric in evaluation_metrics:\n",
    "    columns.extend([f'train_{eval_metric}', f'val_{eval_metric}', f'std_train_{eval_metric}', f'std_val_{eval_metric}'])\n",
    "    "
   ]
  },
  {
   "cell_type": "code",
   "execution_count": 29,
   "metadata": {},
   "outputs": [
    {
     "name": "stderr",
     "output_type": "stream",
     "text": [
      "                                                                                                                  \r"
     ]
    },
    {
     "name": "stdout",
     "output_type": "stream",
     "text": [
      "Appended GridSearchCV results for akaze with 512 features and 32 codebook size.\n"
     ]
    },
    {
     "name": "stderr",
     "output_type": "stream",
     "text": [
      "                                                                                                                  \r"
     ]
    },
    {
     "name": "stdout",
     "output_type": "stream",
     "text": [
      "Appended GridSearchCV results for akaze with 512 features and 64 codebook size.\n"
     ]
    },
    {
     "name": "stderr",
     "output_type": "stream",
     "text": [
      "                                                                                                                  \r"
     ]
    },
    {
     "name": "stdout",
     "output_type": "stream",
     "text": [
      "Appended GridSearchCV results for akaze with 512 features and 96 codebook size.\n"
     ]
    },
    {
     "name": "stderr",
     "output_type": "stream",
     "text": [
      "                                                                                                                  \r"
     ]
    },
    {
     "name": "stdout",
     "output_type": "stream",
     "text": [
      "Appended GridSearchCV results for akaze with 512 features and 128 codebook size.\n"
     ]
    },
    {
     "name": "stderr",
     "output_type": "stream",
     "text": [
      "                                                                                                                  \r"
     ]
    },
    {
     "name": "stdout",
     "output_type": "stream",
     "text": [
      "Appended GridSearchCV results for akaze with 512 features and 160 codebook size.\n"
     ]
    },
    {
     "name": "stderr",
     "output_type": "stream",
     "text": [
      "                                                                                                                  \r"
     ]
    },
    {
     "name": "stdout",
     "output_type": "stream",
     "text": [
      "Appended GridSearchCV results for akaze with 512 features and 192 codebook size.\n"
     ]
    },
    {
     "name": "stderr",
     "output_type": "stream",
     "text": [
      "                                                                                                                  \r"
     ]
    },
    {
     "name": "stdout",
     "output_type": "stream",
     "text": [
      "Appended GridSearchCV results for akaze with 512 features and 224 codebook size.\n"
     ]
    },
    {
     "name": "stderr",
     "output_type": "stream",
     "text": [
      "                                                                                                                  \r"
     ]
    },
    {
     "name": "stdout",
     "output_type": "stream",
     "text": [
      "Appended GridSearchCV results for akaze with 512 features and 256 codebook size.\n"
     ]
    }
   ],
   "source": [
    "train_descriptors, filtered_train_labels = compute_descriptors(\n",
    "    images=train_images,\n",
    "    labels=train_labels,\n",
    "    detector='akaze',\n",
    "    n_features=0,\n",
    "    desc='Computing descriptors for TRAIN images...'\n",
    ")\n",
    "for codebook_size in params['codebook_size']:\n",
    "    \n",
    "    cbook = generate_codebook(train_descriptors, codebook_size=codebook_size)\n",
    "    train_visual_words = compute_visual_words(\n",
    "        descriptors=train_descriptors,\n",
    "        codebook=cbook,\n",
    "        codebook_size=codebook_size,\n",
    "        desc=\"Computing visual words vocabulary with TRAIN descriptors...\"\n",
    "    )\n",
    "\n",
    "    clf = KNeighborsClassifier(n_jobs=-1)\n",
    "    clf_grid = GridSearchCV(\n",
    "        estimator=clf,\n",
    "        param_grid={k: params[k] for k in ('n_neighbors', 'metric') if k in params},\n",
    "        cv=8,\n",
    "        scoring=evaluation_metrics,\n",
    "        refit=\"accuracy\",\n",
    "        return_train_score=True)\n",
    "    clf_grid.fit(train_visual_words, filtered_train_labels)\n",
    "\n",
    "    idx_best_accuracy = np.argmin(clf_grid.cv_results_['rank_test_accuracy'])\n",
    "\n",
    "    # Params\n",
    "    n_neighbors = clf_grid.best_params_['n_neighbors']\n",
    "    distance = clf_grid.best_params_['metric']\n",
    "    step_size = \"-\"\n",
    "    \n",
    "    results_data = [detector, n_features, step_size, codebook_size, n_neighbors, distance]\n",
    "\n",
    "    # Scores\n",
    "    for eval_metric in evaluation_metrics:\n",
    "        train_score = clf_grid.cv_results_['mean_train_' + eval_metric][idx_best_accuracy]\n",
    "        val_score = clf_grid.cv_results_['mean_test_' + eval_metric][idx_best_accuracy]\n",
    "        std_train_score = clf_grid.cv_results_['std_train_' + eval_metric][idx_best_accuracy]\n",
    "        std_val_score = clf_grid.cv_results_['std_test_' + eval_metric][idx_best_accuracy]\n",
    "        results_data.extend([train_score, val_score, std_train_score, std_val_score])\n",
    "\n",
    "    results.append(results_data)\n",
    "    print(f\"Appended GridSearchCV results for {detector} with {n_features} features and {codebook_size} codebook size.\")"
   ]
  },
  {
   "cell_type": "code",
   "execution_count": 30,
   "metadata": {},
   "outputs": [],
   "source": [
    "columns = ['detector', 'n_features','step_size', 'codebook_size', 'n_neighbors', 'distance'] \\\n",
    "\n",
    "for eval_metric in evaluation_metrics:\n",
    "    columns.extend([f'train_{eval_metric}', f'val_{eval_metric}', f'std_train_{eval_metric}', f'std_val_{eval_metric}'])"
   ]
  },
  {
   "cell_type": "code",
   "execution_count": 31,
   "metadata": {},
   "outputs": [
    {
     "name": "stdout",
     "output_type": "stream",
     "text": [
      "Saved results to results\\hyper_params_knn.csv\n"
     ]
    }
   ],
   "source": [
    "df = pd.DataFrame(results, columns=columns)\n",
    "os.makedirs(results_folder, exist_ok=True)\n",
    "df.to_csv(os.path.join(results_folder, filename))\n",
    "print(f\"Saved results to {os.path.join(results_folder, filename)}\")"
   ]
  },
  {
   "cell_type": "code",
   "execution_count": 32,
   "metadata": {},
   "outputs": [],
   "source": [
    "df = pd.read_csv('results/hyper_params_knn.csv')"
   ]
  },
  {
   "cell_type": "code",
   "execution_count": 52,
   "metadata": {},
   "outputs": [
    {
     "data": {
      "image/png": "[encoded data removed]",
      "text/plain": [
       "<Figure size 1000x300 with 2 Axes>"
      ]
     },
     "metadata": {},
     "output_type": "display_data"
    }
   ],
   "source": [
    "plot_params_comparison(\n",
    "    df=df,\n",
    "    detectors=['sift','akaze'],\n",
    "    xvar='n_features',\n",
    "    yvar='val_accuracy',\n",
    "    zvar='codebook_size',\n",
    "    figsize=(10, 3)\n",
    ")"
   ]
  },
  {
   "attachments": {},
   "cell_type": "markdown",
   "metadata": {},
   "source": [
    "AKAZE performed better at a lower codebook size but performed worse than SIFT overall. Therefore, we will focus on SIFT from now on.\n",
    "\n",
    "Observing the plot, we see that SIFT performed better with a high number of features (800-1000). In these scenario, an intermidiate codebook size performed better (64-192)\n",
    "\n",
    "From this visualization we can extract that intermidiate values for the codebook size and a high number of features should be used on the definitive DenseSIFT hyperparameter search."
   ]
  },
  {
   "cell_type": "code",
   "execution_count": 58,
   "metadata": {},
   "outputs": [
    {
     "data": {
      "image/png": "[encoded data removed]",
      "text/plain": [
       "<Figure size 1000x300 with 2 Axes>"
      ]
     },
     "metadata": {},
     "output_type": "display_data"
    }
   ],
   "source": [
    "plot_params_comparison(\n",
    "    df=df,\n",
    "    detectors=['sift','akaze'],\n",
    "    xvar='n_features',\n",
    "    yvar='val_accuracy',\n",
    "    zvar='n_neighbors',\n",
    "    figsize=(10, 3)\n",
    ")"
   ]
  },
  {
   "attachments": {},
   "cell_type": "markdown",
   "metadata": {},
   "source": [
    "Respect to the number of neighbors of the KNN predictor, we evidenciate that higher values are more interesting, since they assure a more representative poll compared to scenarios with few neighbors"
   ]
  },
  {
   "attachments": {},
   "cell_type": "markdown",
   "metadata": {},
   "source": [
    "## Dense SIFT's  Grid Search"
   ]
  },
  {
   "cell_type": "code",
   "execution_count": null,
   "metadata": {},
   "outputs": [
    {
     "name": "stderr",
     "output_type": "stream",
     "text": [
      "                                                                                              \r"
     ]
    },
    {
     "ename": "TypeError",
     "evalue": "compute_visual_words() missing 1 required positional argument: 'codebook'",
     "output_type": "error",
     "traceback": [
      "\u001B[1;31m---------------------------------------------------------------------------\u001B[0m",
      "\u001B[1;31mTypeError\u001B[0m                                 Traceback (most recent call last)",
      "Cell \u001B[1;32mIn[45], line 26\u001B[0m\n\u001B[0;32m     16\u001B[0m train_descriptors, filtered_train_labels \u001B[39m=\u001B[39m compute_descriptors(\n\u001B[0;32m     17\u001B[0m     images\u001B[39m=\u001B[39mtrain_images,\n\u001B[0;32m     18\u001B[0m     labels\u001B[39m=\u001B[39mtrain_labels,\n\u001B[1;32m   (...)\u001B[0m\n\u001B[0;32m     22\u001B[0m     desc\u001B[39m=\u001B[39m\u001B[39m'\u001B[39m\u001B[39mComputing descriptors for TRAIN images...\u001B[39m\u001B[39m'\u001B[39m\n\u001B[0;32m     23\u001B[0m )\n\u001B[0;32m     24\u001B[0m \u001B[39mfor\u001B[39;00m codebook_size \u001B[39min\u001B[39;00m params[\u001B[39m'\u001B[39m\u001B[39mcodebook_size\u001B[39m\u001B[39m'\u001B[39m]:\n\u001B[1;32m---> 26\u001B[0m     train_visual_words \u001B[39m=\u001B[39m compute_visual_words(\n\u001B[0;32m     27\u001B[0m         descriptors\u001B[39m=\u001B[39;49mtrain_descriptors,\n\u001B[0;32m     28\u001B[0m         codebook_size\u001B[39m=\u001B[39;49mcodebook_size,\n\u001B[0;32m     29\u001B[0m         desc\u001B[39m=\u001B[39;49m\u001B[39m\"\u001B[39;49m\u001B[39mComputing visual words vocabulary with TRAIN descriptors...\u001B[39;49m\u001B[39m\"\u001B[39;49m\n\u001B[0;32m     30\u001B[0m     )\n\u001B[0;32m     32\u001B[0m     clf \u001B[39m=\u001B[39m KNeighborsClassifier(n_jobs\u001B[39m=\u001B[39m\u001B[39m-\u001B[39m\u001B[39m1\u001B[39m)\n\u001B[0;32m     33\u001B[0m     clf_grid \u001B[39m=\u001B[39m GridSearchCV(\n\u001B[0;32m     34\u001B[0m         estimator\u001B[39m=\u001B[39mclf,\n\u001B[0;32m     35\u001B[0m         param_grid\u001B[39m=\u001B[39m{k: params[k] \u001B[39mfor\u001B[39;00m k \u001B[39min\u001B[39;00m (\u001B[39m'\u001B[39m\u001B[39mn_neighbors\u001B[39m\u001B[39m'\u001B[39m, \u001B[39m'\u001B[39m\u001B[39mmetric\u001B[39m\u001B[39m'\u001B[39m) \u001B[39mif\u001B[39;00m k \u001B[39min\u001B[39;00m params},\n\u001B[1;32m   (...)\u001B[0m\n\u001B[0;32m     38\u001B[0m         refit\u001B[39m=\u001B[39m\u001B[39m\"\u001B[39m\u001B[39maccuracy\u001B[39m\u001B[39m\"\u001B[39m,\n\u001B[0;32m     39\u001B[0m         return_train_score\u001B[39m=\u001B[39m\u001B[39mTrue\u001B[39;00m)\n",
      "\u001B[1;31mTypeError\u001B[0m: compute_visual_words() missing 1 required positional argument: 'codebook'"
     ]
    }
   ],
   "source": [
    "params = {\n",
    "    'detector': ['dense_sift'],\n",
    "    'n_features': [100, 200, 300],\n",
    "    'codebook_size': [32, 64, 128],\n",
    "    'n_neighbors': [9, 13, 15, 17, 10, 21, 23],\n",
    "    'metric': [\"euclidean\", \"manhattan\"],\n",
    "    'step_size': [10, 100, ],\n",
    "    'dr_methods': [\"pca\", \"lda\"]\n",
    "}\n",
    "### Dense SIFT case\n",
    "for detector in params['detector']:\n",
    "    if detector == 'dense_sift':\n",
    "        for n_features in params['n_features']:\n",
    "            for step_sizes in params['step_size']:\n",
    "\n",
    "                train_descriptors, filtered_train_labels = compute_descriptors(\n",
    "                    images=train_images,\n",
    "                    labels=train_labels,\n",
    "                    detector=detector,\n",
    "                    n_features=n_features,\n",
    "                    step_size = step_sizes,\n",
    "                    desc='Computing descriptors for TRAIN images...'\n",
    "                )\n",
    "                for codebook_size in params['codebook_size']:\n",
    "\n",
    "                    cbook = generate_codebook(train_descriptors, codebook_size=codebook_size)\n",
    "                    train_visual_words = compute_visual_words(\n",
    "                        descriptors=train_descriptors,\n",
    "                        codebook=cbook\n",
    "                        codebook_size=codebook_size,\n",
    "                        desc=\"Computing visual words vocabulary with TRAIN descriptors...\"\n",
    "                    )\n",
    "\n",
    "                    clf = KNeighborsClassifier(n_jobs=-1)\n",
    "                    clf_grid = GridSearchCV(\n",
    "                        estimator=clf,\n",
    "                        param_grid={k: params[k] for k in ('n_neighbors', 'metric') if k in params},\n",
    "                        cv=8,\n",
    "                        scoring=evaluation_metrics,\n",
    "                        refit=\"accuracy\",\n",
    "                        return_train_score=True)\n",
    "                    clf_grid.fit(train_visual_words, filtered_train_labels)\n",
    "\n",
    "                    idx_best_accuracy = np.argmin(clf_grid.cv_results_['rank_test_accuracy'])\n",
    "\n",
    "                    # Params\n",
    "                    n_neighbors = clf_grid.best_params_['n_neighbors']\n",
    "                    distance = clf_grid.best_params_['metric']\n",
    "                    results_data = [detector, n_features, step_sizes, codebook_size, n_neighbors, distance]\n",
    "\n",
    "                    # Scores\n",
    "                    for eval_metric in evaluation_metrics:\n",
    "                        train_score = clf_grid.cv_results_['mean_train_' + eval_metric][idx_best_accuracy]\n",
    "                        val_score = clf_grid.cv_results_['mean_test_' + eval_metric][idx_best_accuracy]\n",
    "                        std_train_score = clf_grid.cv_results_['std_train_' + eval_metric][idx_best_accuracy]\n",
    "                        std_val_score = clf_grid.cv_results_['std_test_' + eval_metric][idx_best_accuracy]\n",
    "                        results_data.extend([train_score, val_score, std_train_score, std_val_score])\n",
    "\n",
    "                    results.append(results_data)\n",
    "                    print(f\"Appended GridSearchCV results for {detector} with {n_features} features, {step_sizes} step size and {codebook_size} codebook size.\")\n",
    "\n",
    "columns = ['detector', 'n_features','step_size', 'codebook_size', 'n_neighbors', 'distance'] \\\n",
    "\n",
    "for eval_metric in evaluation_metrics:\n",
    "    columns.extend([f'train_{eval_metric}', f'val_{eval_metric}', f'std_train_{eval_metric}', f'std_val_{eval_metric}'])\n",
    "\n",
    "df = pd.DataFrame(results, columns=columns)\n",
    "os.makedirs(results_folder, exist_ok=True)\n",
    "df.to_csv(os.path.join(results_folder, filename))\n",
    "print(f\"Saved results to {os.path.join(results_folder, filename)}\")"
   ]
  },
  {
   "cell_type": "code",
   "execution_count": null,
   "metadata": {},
   "outputs": [],
   "source": [
    "data = df.copy()[df['detector'] == 'dense_sift']\n",
    "sns.barplot(data=data, x=\"step_size\", y=\"val_accuracy\", hue = 'codebook_size', errorbar=\"sd\").set(title='The validation accuracy for dense_sift, based on step size and codebook size')"
   ]
  },
  {
   "cell_type": "markdown",
   "metadata": {
    "tags": []
   },
   "source": [
    "## Dimensionality reduction with PCA and LDA"
   ]
  },
  {
   "cell_type": "markdown",
   "metadata": {},
   "source": [
    "We find the cases obtained with GridSearch where the validation score was the highest."
   ]
  },
  {
   "cell_type": "code",
   "execution_count": 12,
   "metadata": {},
   "outputs": [
    {
     "ename": "NameError",
     "evalue": "name 'df' is not defined",
     "output_type": "error",
     "traceback": [
      "\u001B[1;31m---------------------------------------------------------------------------\u001B[0m",
      "\u001B[1;31mNameError\u001B[0m                                 Traceback (most recent call last)",
      "Cell \u001B[1;32mIn[12], line 1\u001B[0m\n\u001B[1;32m----> 1\u001B[0m df_copy \u001B[39m=\u001B[39m df\u001B[39m.\u001B[39mcopy()\n\u001B[0;32m      2\u001B[0m df_copy \u001B[39m=\u001B[39m df_copy\u001B[39m.\u001B[39msort_values(\u001B[39m\"\u001B[39m\u001B[39mval_accuracy\u001B[39m\u001B[39m\"\u001B[39m, ascending\u001B[39m=\u001B[39m\u001B[39mFalse\u001B[39;00m)\n\u001B[0;32m      3\u001B[0m df_copy \u001B[39m=\u001B[39m df_copy\u001B[39m.\u001B[39mdrop_duplicates(subset\u001B[39m=\u001B[39m[\u001B[39m\"\u001B[39m\u001B[39mdetector\u001B[39m\u001B[39m\"\u001B[39m], keep\u001B[39m=\u001B[39m\u001B[39m\"\u001B[39m\u001B[39mfirst\u001B[39m\u001B[39m\"\u001B[39m)\n",
      "\u001B[1;31mNameError\u001B[0m: name 'df' is not defined"
     ]
    }
   ],
   "source": [
    "df_copy = df.copy()\n",
    "df_copy = df_copy.sort_values(\"val_accuracy\", ascending=False)\n",
    "df_copy = df_copy.drop_duplicates(subset=[\"detector\"], keep=\"first\")\n",
    "df_copy.drop(columns=df.columns[0], axis=1, inplace=True)\n",
    "df_copy = df_copy.drop(df_copy.iloc[:, 6:],axis = 1)\n",
    "best_params = df_copy.values.tolist()"
   ]
  },
  {
   "cell_type": "code",
   "execution_count": null,
   "metadata": {},
   "outputs": [
    {
     "data": {
      "text/plain": [
       "[['dense_sift', 300, '50', 128, 15, 'manhattan'],\n",
       " ['sift', 300, '-', 128, 15, 'euclidean'],\n",
       " ['akaze', 300, '-', 32, 15, 'manhattan']]"
      ]
     },
     "execution_count": 19,
     "metadata": {},
     "output_type": "execute_result"
    }
   ],
   "source": [
    "best_params"
   ]
  },
  {
   "cell_type": "code",
   "execution_count": null,
   "metadata": {},
   "outputs": [
    {
     "name": "stderr",
     "output_type": "stream",
     "text": [
      "c:\\Users\\Guillem\\Desktop\\MCV-M3-Project\\venv\\lib\\site-packages\\sklearn\\cluster\\_kmeans.py:870: FutureWarning: The default value of `n_init` will change from 3 to 'auto' in 1.4. Set the value of `n_init` explicitly to suppress the warning\n",
      "  warnings.warn(\n"
     ]
    },
    {
     "ename": "NameError",
     "evalue": "name 'compute_visual_words' is not defined",
     "output_type": "error",
     "traceback": [
      "\u001B[1;31m---------------------------------------------------------------------------\u001B[0m",
      "\u001B[1;31mNameError\u001B[0m                                 Traceback (most recent call last)",
      "Cell \u001B[1;32mIn[33], line 18\u001B[0m\n\u001B[0;32m      9\u001B[0m test_descriptors, test_labels \u001B[39m=\u001B[39m compute_descriptors(\n\u001B[0;32m     10\u001B[0m                 images\u001B[39m=\u001B[39mtest_images,\n\u001B[0;32m     11\u001B[0m                 labels\u001B[39m=\u001B[39mtest_labels,\n\u001B[1;32m   (...)\u001B[0m\n\u001B[0;32m     15\u001B[0m         desc\u001B[39m=\u001B[39m\u001B[39m'\u001B[39m\u001B[39mComputing descriptors for TEST images...\u001B[39m\u001B[39m'\u001B[39m\n\u001B[0;32m     16\u001B[0m             )\n\u001B[0;32m     17\u001B[0m cbook \u001B[39m=\u001B[39m generate_codebook(train_descriptors, \u001B[39m128\u001B[39m)\n\u001B[1;32m---> 18\u001B[0m train_visual_words \u001B[39m=\u001B[39m compute_visual_words(\n\u001B[0;32m     19\u001B[0m     descriptors\u001B[39m=\u001B[39mtrain_descriptors,\n\u001B[0;32m     20\u001B[0m     codebook\u001B[39m=\u001B[39mcbook,\n\u001B[0;32m     21\u001B[0m     codebook_size\u001B[39m=\u001B[39m\u001B[39m128\u001B[39m,\n\u001B[0;32m     22\u001B[0m     desc\u001B[39m=\u001B[39m\u001B[39m\"\u001B[39m\u001B[39mComputing visual words vocabulary with TRAIN descriptors...\u001B[39m\u001B[39m\"\u001B[39m,\n\u001B[0;32m     23\u001B[0m     verbose\u001B[39m=\u001B[39m\u001B[39mTrue\u001B[39;00m)\n\u001B[0;32m     25\u001B[0m test_visual_words \u001B[39m=\u001B[39m compute_visual_words(\n\u001B[0;32m     26\u001B[0m     descriptors\u001B[39m=\u001B[39mtest_descriptors,\n\u001B[0;32m     27\u001B[0m     codebook\u001B[39m=\u001B[39mcbook,\n\u001B[0;32m     28\u001B[0m     codebook_size\u001B[39m=\u001B[39m\u001B[39m128\u001B[39m,\n\u001B[0;32m     29\u001B[0m     desc\u001B[39m=\u001B[39m\u001B[39m\"\u001B[39m\u001B[39mComputing visual words vocabulary with Test descriptors...\u001B[39m\u001B[39m\"\u001B[39m,\n\u001B[0;32m     30\u001B[0m     verbose\u001B[39m=\u001B[39m\u001B[39mTrue\u001B[39;00m)\n\u001B[0;32m     31\u001B[0m clf \u001B[39m=\u001B[39m KNeighborsClassifier(n_neighbors \u001B[39m=\u001B[39m \u001B[39m15\u001B[39m,metric \u001B[39m=\u001B[39m \u001B[39m'\u001B[39m\u001B[39mmanhattan\u001B[39m\u001B[39m'\u001B[39m ,n_jobs\u001B[39m=\u001B[39m\u001B[39m-\u001B[39m\u001B[39m1\u001B[39m)\n",
      "\u001B[1;31mNameError\u001B[0m: name 'compute_visual_words' is not defined"
     ]
    }
   ],
   "source": [
    "train_descriptors, train_labels = compute_descriptors(\n",
    "                    images=train_images,\n",
    "                    labels=train_labels,\n",
    "                    detector='dense_sift',\n",
    "                    n_features=300,\n",
    "                    step_size = 50,\n",
    "                    desc='Computing descriptors for TRAIN images...'\n",
    "                )\n",
    "test_descriptors, test_labels = compute_descriptors(\n",
    "                images=test_images,\n",
    "                labels=test_labels,\n",
    "                detector='dense_sift',\n",
    "                n_features=300,\n",
    "                step_size = 50,\n",
    "        desc='Computing descriptors for TEST images...'\n",
    "            )\n",
    "cbook = generate_codebook(train_descriptors, 128)\n",
    "train_visual_words = compute_visual_words(\n",
    "    descriptors=train_descriptors,\n",
    "    codebook=cbook,\n",
    "    codebook_size=128,\n",
    "    desc=\"Computing visual words vocabulary with TRAIN descriptors...\",\n",
    "    verbose=True)\n",
    "\n",
    "test_visual_words = compute_visual_words(\n",
    "    descriptors=test_descriptors,\n",
    "    codebook=cbook,\n",
    "    codebook_size=128,\n",
    "    desc=\"Computing visual words vocabulary with Test descriptors...\",\n",
    "    verbose=True)\n",
    "clf = KNeighborsClassifier(n_neighbors = 15,metric = 'manhattan' ,n_jobs=-1)\n",
    "clf.fit(train_visual_words, train_labels)\n",
    "print('\\nRegular')\n",
    "evaluate_vw_predictions(test_visual_words,test_labels, clf)"
   ]
  },
  {
   "cell_type": "markdown",
   "metadata": {},
   "source": [
    "### Apply dimensionality reduction and compare the results"
   ]
  },
  {
   "cell_type": "code",
   "execution_count": null,
   "metadata": {
    "cell_id": "e67d8703047143b6b910c54eab6f1090",
    "deepnote_cell_type": "code",
    "deepnote_to_be_reexecuted": false,
    "execution_millis": 0,
    "execution_start": 1672946215184,
    "source_hash": "f6afa9c9",
    "tags": []
   },
   "outputs": [],
   "source": [
    "def get_dimension_reduction(dim_red_name: str = 'pca', n_components: int = 64) -> Any:\n",
    "    \"\"\"\n",
    "    Creates and parametrize a dimensionality reduction method given a config dictionary\n",
    "    \"\"\"\n",
    "    if dim_red_name == 'pca':\n",
    "        dim_red = PCA(n_components=n_components)\n",
    "    elif dim_red_name == 'lda':\n",
    "        dim_red = LinearDiscriminantAnalysis(n_components=n_components)\n",
    "    else:\n",
    "        raise ValueError(\n",
    "            f\"\\nGiven dimensionality reduction algorithm {dim_red_name} is an invalid one.\"\n",
    "        )\n",
    "    return dim_red"
   ]
  },
  {
   "cell_type": "code",
   "execution_count": 10,
   "metadata": {},
   "outputs": [
    {
     "ename": "NameError",
     "evalue": "name 'best_params' is not defined",
     "output_type": "error",
     "traceback": [
      "\u001B[1;31m---------------------------------------------------------------------------\u001B[0m",
      "\u001B[1;31mNameError\u001B[0m                                 Traceback (most recent call last)",
      "Cell \u001B[1;32mIn[10], line 7\u001B[0m\n\u001B[0;32m      4\u001B[0m filename \u001B[39m=\u001B[39m \u001B[39m'\u001B[39m\u001B[39mhyper_params_dim_red.csv\u001B[39m\u001B[39m'\u001B[39m\n\u001B[0;32m      5\u001B[0m methods \u001B[39m=\u001B[39m [\u001B[39m'\u001B[39m\u001B[39mpca\u001B[39m\u001B[39m'\u001B[39m, \u001B[39m'\u001B[39m\u001B[39mlda\u001B[39m\u001B[39m'\u001B[39m]\n\u001B[1;32m----> 7\u001B[0m \u001B[39mfor\u001B[39;00m params \u001B[39min\u001B[39;00m best_params:\n\u001B[0;32m      8\u001B[0m     train_descriptors, train_labels \u001B[39m=\u001B[39m compute_descriptors(\n\u001B[0;32m      9\u001B[0m                     images\u001B[39m=\u001B[39mtrain_images,\n\u001B[0;32m     10\u001B[0m                     labels\u001B[39m=\u001B[39mtrain_labels,\n\u001B[1;32m   (...)\u001B[0m\n\u001B[0;32m     14\u001B[0m                     desc\u001B[39m=\u001B[39m\u001B[39m'\u001B[39m\u001B[39mComputing descriptors for TRAIN images...\u001B[39m\u001B[39m'\u001B[39m\n\u001B[0;32m     15\u001B[0m                 )\n\u001B[0;32m     16\u001B[0m     test_descriptors, test_labels \u001B[39m=\u001B[39m compute_descriptors(\n\u001B[0;32m     17\u001B[0m                     images\u001B[39m=\u001B[39mtest_images,\n\u001B[0;32m     18\u001B[0m                     labels\u001B[39m=\u001B[39mtest_labels,\n\u001B[1;32m   (...)\u001B[0m\n\u001B[0;32m     23\u001B[0m                     testing \u001B[39m=\u001B[39m \u001B[39mTrue\u001B[39;00m\n\u001B[0;32m     24\u001B[0m                 )\n",
      "\u001B[1;31mNameError\u001B[0m: name 'best_params' is not defined"
     ]
    }
   ],
   "source": [
    "results = []\n",
    "evaluation_metrics = ['accuracy', 'f1_weighted']\n",
    "results_folder = 'results'\n",
    "filename = 'hyper_params_dim_red.csv'\n",
    "methods = ['pca', 'lda']\n",
    "\n",
    "for params in best_params:\n",
    "    train_descriptors, train_labels = compute_descriptors(\n",
    "                    images=train_images,\n",
    "                    labels=train_labels,\n",
    "                    detector=params[0],\n",
    "                    n_features=params[1],\n",
    "                    #step_size = \n",
    "                    desc='Computing descriptors for TRAIN images...'\n",
    "                )\n",
    "    test_descriptors, test_labels = compute_descriptors(\n",
    "                    images=test_images,\n",
    "                    labels=test_labels,\n",
    "                    detector=params[0],\n",
    "                    n_features=params[1],\n",
    "                    #step_size = \n",
    "                    desc='Computing descriptors for TEST images...',\n",
    "                    testing = True\n",
    "                )\n",
    "    cbook = generate_codebook(train_descriptors, params[3])\n",
    "    train_visual_words = compute_visual_words(\n",
    "        descriptors=train_descriptors,\n",
    "        codebook=cbook,\n",
    "        codebook_size=params[3],\n",
    "        desc=\"Computing visual words vocabulary with TRAIN descriptors...\",\n",
    "        verbose=True)\n",
    "\n",
    "    test_visual_words = compute_visual_words(\n",
    "        descriptors=test_descriptors,\n",
    "        codebook=cbook,\n",
    "        codebook_size=params[3],\n",
    "        desc=\"Computing visual words vocabulary with Test descriptors...\",\n",
    "        verbose=True)\n",
    "    clf = KNeighborsClassifier(n_neighbors = params[4],metric = params[5] ,n_jobs=-1)\n",
    "    clf.fit(train_visual_words, train_labels)\n",
    "    print('\\nRegular')\n",
    "    reg_res = evaluate_vw_predictions(test_visual_words,test_labels, clf)\n",
    "\n",
    "    for method in methods:\n",
    "        if method == 'pca':\n",
    "            reduced_dims = np.arange(6, 34, 2)\n",
    "        elif method == 'lda':\n",
    "            reduced_dims = np.arange(4, len(np.unique(test_labels))) \n",
    "        for red_dim in reduced_dims:\n",
    "            red_clf = KNeighborsClassifier(n_neighbors = params[4],metric = params[5] ,n_jobs=-1)\n",
    "            dim_red = get_dimension_reduction(dim_red_name=method, n_components=red_dim)\n",
    "            red_visual_words = dim_red.fit_transform(train_visual_words, train_labels)\n",
    "            red_clf.fit(red_visual_words, train_labels)\n",
    "            red_visual_words_test = dim_red.transform(test_visual_words)\n",
    "            print('\\nDim red')\n",
    "            res = evaluate_vw_predictions(red_visual_words_test,test_labels, red_clf)\n",
    "\n",
    "            results_data = [params[0], params[1], params[2], params[3], params[4], params[5], method, red_dim, reg_res ,res]\n",
    "\n",
    "            results.append(results_data)\n",
    "            print(f\" Using {params[0]} with {params[1]} features, {params[2]} step size and {params[3]} codebook size. Appended GridSearch results for {method} with {red_dim} reduced dimension.\")\n",
    "\n",
    "            \n",
    "columns = ['detector', 'n_features','step_size', 'codebook_size', 'n_neighbors', 'distance', 'method', 'reduced_dimensions', 'regular_accuracy', 'dim_red_accuracy']\n",
    "df_dr = pd.DataFrame(results, columns=columns)\n",
    "os.makedirs(results_folder, exist_ok=True)\n",
    "df_dr.to_csv(os.path.join(results_folder, filename))\n",
    "print(f\"Saved results to {os.path.join(results_folder, filename)}\")"
   ]
  },
  {
   "attachments": {},
   "cell_type": "markdown",
   "metadata": {},
   "source": [
    "## K-Fold Crossvalidation Pipeline "
   ]
  },
  {
   "attachments": {},
   "cell_type": "markdown",
   "metadata": {},
   "source": [
    "### Read and Process Data"
   ]
  },
  {
   "cell_type": "code",
   "execution_count": null,
   "metadata": {},
   "outputs": [],
   "source": [
    "train_images_filenames = pickle.load(open('MIT_split/train_images_filenames.dat',\"rb\"))\n",
    "test_images_filenames = pickle.load(open('MIT_split/test_images_filenames.dat',\"rb\"))\n",
    "train_images_filenames = ['..' + n[15:] for n in train_images_filenames]\n",
    "test_images_filenames  = ['..' + n[15:] for n in test_images_filenames]\n",
    "train_labels = pickle.load(open('MIT_split/train_labels.dat',\"rb\")) \n",
    "test_labels = pickle.load(open('MIT_split/test_labels.dat',\"rb\"))"
   ]
  },
  {
   "cell_type": "code",
   "execution_count": null,
   "metadata": {},
   "outputs": [],
   "source": [
    "train_images_filenames = preprocess_paths(train_images_filenames)\n",
    "test_images_filenames = preprocess_paths(test_images_filenames)"
   ]
  },
  {
   "cell_type": "code",
   "execution_count": null,
   "metadata": {},
   "outputs": [],
   "source": [
    "train_images = load_images(files=train_images_filenames, desc='Loading TRAIN images...')\n",
    "test_images = load_images(files=test_images_filenames, desc='Loading TEST images...')\n",
    "\n",
    "images = np.array(train_images + test_images)\n",
    "labels = np.array(train_labels + test_labels)"
   ]
  },
  {
   "attachments": {},
   "cell_type": "markdown",
   "metadata": {},
   "source": [
    "### Configuration"
   ]
  },
  {
   "cell_type": "code",
   "execution_count": null,
   "metadata": {},
   "outputs": [],
   "source": [
    "splits = 10"
   ]
  },
  {
   "attachments": {},
   "cell_type": "markdown",
   "metadata": {},
   "source": [
    "### Cross-validation loop"
   ]
  },
  {
   "cell_type": "code",
   "execution_count": null,
   "metadata": {},
   "outputs": [],
   "source": [
    "\n",
    "\n",
    "kfold = KFold(n_splits=splits, shuffle=True, random_state=0)\n",
    "# Iterate over the K-folds\n",
    "results = []\n",
    "for train_index, test_index in kfold.split(labels):\n",
    "    # Split the data into training and test sets\n",
    "    Y_train, Y_test = labels[train_index], labels[test_index]\n",
    "    X_train, X_test = images[train_index], images[test_index]\n",
    "\n",
    "    train_descriptors, train_labels = compute_descriptors(\n",
    "                    images=train_images,\n",
    "                    labels=train_labels,\n",
    "                    detector='dense_sift',\n",
    "                    n_features=300,\n",
    "                    step_size = 50\n",
    "                    desc='Computing descriptors for TRAIN images...'\n",
    "                )\n",
    "    test_descriptors, test_labels = compute_descriptors(\n",
    "                    images=test_images,\n",
    "                    labels=test_labels,\n",
    "                    detector='dense_sift',\n",
    "                    n_features=300,\n",
    "                    step_size = 50\n",
    "                    desc='Computing descriptors for TEST images...',\n",
    "                    testing = True\n",
    "                )\n",
    "    cbook = generate_codebook(train_descriptors, 128)\n",
    "    train_visual_words = compute_visual_words(\n",
    "        descriptors=train_descriptors,\n",
    "        codebook=cbook,\n",
    "        codebook_size=128,\n",
    "        desc=\"Computing visual words vocabulary with TRAIN descriptors...\",\n",
    "        verbose=True)\n",
    "\n",
    "    test_visual_words = compute_visual_words(\n",
    "        descriptors=test_descriptors,\n",
    "        codebook=cbook,\n",
    "        codebook_size=128,\n",
    "        desc=\"Computing visual words vocabulary with Test descriptors...\",\n",
    "        verbose=True)\n",
    "    clf = KNeighborsClassifier(n_neighbors = 15,metric = 'manhattan' ,n_jobs=-1)\n",
    "    clf.fit(train_visual_words, train_labels)\n",
    "    print('\\nRegular')\n",
    "    reg_res = evaluate_vw_predictions(test_visual_words,test_labels, clf)\n",
    "    results.append(reg_res)\n",
    "\n",
    "print(f'Average: {np.average(results)}')"
   ]
  },
  {
   "attachments": {},
   "cell_type": "markdown",
   "metadata": {},
   "source": [
    "## Answers and Conclusions"
   ]
  },
  {
   "cell_type": "markdown",
   "metadata": {},
   "source": [
    "<font color='green'>Test different amounts of local features. What performs best?</font>  \n",
    "<font color='green'>Use dense SIFT instead of detected keypoints. Conclusions?</font> \n",
    "\n",
    "We tried several descriptors including BRISK, KAZE, AKAZE, SIFT and DenseSIFT. Not all of them allowed a wide selection range of features so we we decided to perform a crossvalidated grid search over the last three-\n",
    "The search and generated plots showcased that DenseSIFT's local features produces better performance. \n",
    "\n",
    "<font color='green'>Test different amounts of codebook sizes k. What performs best? </font> \n",
    "\n",
    "The codebook size represents the number of words in the vocabulary that is used to represent the visual features of an image. The codebook is then created by clustering the visual features extracted from a set of training images using in our case either SIFT, AKAZE or DENSE_SIFT. The size of the codebook, in our tests, had a major impact in the BOVW model's performance. By increasing the codebook size, we got a better accuracy, but it also meant a longer computational time. We have tested it with values in range …. , and found the optimal values in most cases to be … \n",
    "\n",
    "\n",
    "<font color='green'>Test different values of k for the k-nn classifier. What performs best? </font> \n",
    "\n",
    "In this case there is again a trade-off between accuracy and computational efficiency that is desired. A larger value helped in increasing the accuracy, as the model considered more information from the nearest neighbours, but it increased the computational cost. Best results were with…\n",
    "\n",
    "\n",
    "<font color='green'>Test other distances in k-nn classifier. Does that make a difference? Why? </font> \n",
    "\n",
    "<font color='green'>Play with reducing dimensionality. Conclusions? </font> \n",
    "\n",
    "\n",
    "<font color='green'>Cross-validate everything (topic covered on Wednesday)</font> \n",
    "\n",
    "We have added a cross validation part in our project, but the results were mainly based on the cross validation part included in the GridSearch. It helped us tune the hyperparameters and optimised the model performance by evaluating the model on multiple splits of the data."
   ]
  }
 ],
 "metadata": {
  "deepnote": {},
  "deepnote_execution_queue": [],
  "deepnote_notebook_id": "6c51f7b312e04ee693ecd80fb8786fcb",
  "kernelspec": {
   "display_name": "venv",
   "language": "python",
   "name": "python3"
  },
  "language_info": {
   "codemirror_mode": {
    "name": "ipython",
    "version": 3
   },
   "file_extension": ".py",
   "mimetype": "text/x-python",
   "name": "python",
   "nbconvert_exporter": "python",
   "pygments_lexer": "ipython3",
   "version": "3.9.2"
  },
  "vscode": {
   "interpreter": {
    "hash": "c8f8f4fa385cebad965b97917e8f397ca2ad4e78046408efdafdbacb603dfa95"
   }
  }
 },
 "nbformat": 4,
 "nbformat_minor": 4
}
