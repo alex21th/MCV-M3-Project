{
 "cells": [
  {
   "cell_type": "code",
   "execution_count": 2,
   "metadata": {},
   "outputs": [],
   "source": [
    "from scripts import utils\n",
    "from scripts import gridsearch_svm\n",
    "from tqdm import tqdm"
   ]
  },
  {
   "cell_type": "code",
   "execution_count": 4,
   "metadata": {},
   "outputs": [
    {
     "name": "stdout",
     "output_type": "stream",
     "text": [
      "Spatial pyramid level:  0\n",
      "Step size:  5\n",
      "Number of size:  1\n"
     ]
    },
    {
     "ename": "KeyboardInterrupt",
     "evalue": "",
     "output_type": "error",
     "traceback": [
      "\u001b[0;31m---------------------------------------------------------------------------\u001b[0m",
      "\u001b[0;31mKeyboardInterrupt\u001b[0m                         Traceback (most recent call last)",
      "Cell \u001b[0;32mIn[4], line 28\u001b[0m\n\u001b[1;32m     24\u001b[0m \u001b[39mprint\u001b[39m(\u001b[39m'\u001b[39m\u001b[39mNumber of size: \u001b[39m\u001b[39m'\u001b[39m, num_size)\n\u001b[1;32m     25\u001b[0m params_pre \u001b[39m=\u001b[39m gridsearch_svm\u001b[39m.\u001b[39mset_params(feat_des\u001b[39m=\u001b[39mfeat_des, dense\u001b[39m=\u001b[39mdense,\n\u001b[1;32m     26\u001b[0m                     level\u001b[39m=\u001b[39mpyramid_level, step_div\u001b[39m=\u001b[39mstep, num_sizes\u001b[39m=\u001b[39mnum_size)\n\u001b[0;32m---> 28\u001b[0m train_des, D, test_des \u001b[39m=\u001b[39m gridsearch_svm\u001b[39m.\u001b[39;49mget_descriptors_D(params_pre)\n\u001b[1;32m     30\u001b[0m \u001b[39mfor\u001b[39;00m k \u001b[39min\u001b[39;00m codebook_size:\n\u001b[1;32m     31\u001b[0m     \u001b[39mprint\u001b[39m(\u001b[39m'\u001b[39m\u001b[39mCodebook size: \u001b[39m\u001b[39m'\u001b[39m, k)\n",
      "File \u001b[0;32m~/MacBook Pro/MSc in CV/M3 - Machine Learning/MCV-M3-Project/W2/scripts/gridsearch_svm.py:68\u001b[0m, in \u001b[0;36mget_descriptors_D\u001b[0;34m(feat_des_options)\u001b[0m\n\u001b[1;32m     66\u001b[0m ima\u001b[39m=\u001b[39mcv2\u001b[39m.\u001b[39mimread(filename)\n\u001b[1;32m     67\u001b[0m gray\u001b[39m=\u001b[39mcv2\u001b[39m.\u001b[39mcvtColor(ima,cv2\u001b[39m.\u001b[39mCOLOR_BGR2GRAY)\n\u001b[0;32m---> 68\u001b[0m pyramid_des \u001b[39m=\u001b[39m spatial_pyramid_des(gray, feat_des, feat_des_options)\n\u001b[1;32m     69\u001b[0m train_pyramid_descriptors\u001b[39m.\u001b[39mappend(pyramid_des)\n\u001b[1;32m     70\u001b[0m Train_descriptors\u001b[39m.\u001b[39mappend(pyramid_des[\u001b[39m0\u001b[39m])\n",
      "File \u001b[0;32m~/MacBook Pro/MSc in CV/M3 - Machine Learning/MCV-M3-Project/W2/scripts/utils.py:103\u001b[0m, in \u001b[0;36mspatial_pyramid_des\u001b[0;34m(img, feat_des, feat_des_options)\u001b[0m\n\u001b[1;32m    101\u001b[0m \u001b[39mdef\u001b[39;00m \u001b[39mspatial_pyramid_des\u001b[39m(img, feat_des, feat_des_options):\n\u001b[1;32m    102\u001b[0m     \u001b[39mif\u001b[39;00m feat_des_options[\u001b[39m'\u001b[39m\u001b[39msubregion_shape\u001b[39m\u001b[39m'\u001b[39m] \u001b[39m==\u001b[39m \u001b[39m'\u001b[39m\u001b[39msquare\u001b[39m\u001b[39m'\u001b[39m:\n\u001b[0;32m--> 103\u001b[0m         \u001b[39mreturn\u001b[39;00m spatial_pyramid_des_square(img, feat_des, feat_des_options)\n\u001b[1;32m    104\u001b[0m     \u001b[39melif\u001b[39;00m feat_des_options[\u001b[39m'\u001b[39m\u001b[39msubregion_shape\u001b[39m\u001b[39m'\u001b[39m] \u001b[39m==\u001b[39m \u001b[39m'\u001b[39m\u001b[39mhorizontal\u001b[39m\u001b[39m'\u001b[39m:\n\u001b[1;32m    105\u001b[0m         \u001b[39mreturn\u001b[39;00m spatial_pyramid_des_horizontal(img, feat_des, feat_des_options)\n",
      "File \u001b[0;32m~/MacBook Pro/MSc in CV/M3 - Machine Learning/MCV-M3-Project/W2/scripts/utils.py:79\u001b[0m, in \u001b[0;36mspatial_pyramid_des_square\u001b[0;34m(img, feat_des, feat_des_options)\u001b[0m\n\u001b[1;32m     76\u001b[0m \u001b[39mif\u001b[39;00m feat_des_options[\u001b[39m'\u001b[39m\u001b[39mdense\u001b[39m\u001b[39m'\u001b[39m]:\n\u001b[1;32m     77\u001b[0m     feat_des_options[\u001b[39m'\u001b[39m\u001b[39mdense_kp\u001b[39m\u001b[39m'\u001b[39m] \u001b[39m=\u001b[39m create_dense_kp(img\u001b[39m.\u001b[39mshape, feat_des_options[\u001b[39m'\u001b[39m\u001b[39mstep_div\u001b[39m\u001b[39m'\u001b[39m], feat_des_options[\u001b[39m'\u001b[39m\u001b[39mnum_sizes\u001b[39m\u001b[39m'\u001b[39m])\n\u001b[0;32m---> 79\u001b[0m des \u001b[39m=\u001b[39m compute_des(img, feat_des, feat_des_options)\n\u001b[1;32m     80\u001b[0m pyramid_descriptors \u001b[39m=\u001b[39m [des]\n\u001b[1;32m     82\u001b[0m level \u001b[39m=\u001b[39m feat_des_options[\u001b[39m'\u001b[39m\u001b[39mspatial_pyramid_level\u001b[39m\u001b[39m'\u001b[39m]\n",
      "File \u001b[0;32m~/MacBook Pro/MSc in CV/M3 - Machine Learning/MCV-M3-Project/W2/scripts/utils.py:24\u001b[0m, in \u001b[0;36mcompute_des\u001b[0;34m(img, feat_des, opt)\u001b[0m\n\u001b[1;32m     22\u001b[0m \u001b[39mif\u001b[39;00m opt[\u001b[39m'\u001b[39m\u001b[39mdense\u001b[39m\u001b[39m'\u001b[39m]:\n\u001b[1;32m     23\u001b[0m     \u001b[39massert\u001b[39;00m opt[\u001b[39m'\u001b[39m\u001b[39mdense_kp\u001b[39m\u001b[39m'\u001b[39m] \u001b[39m!=\u001b[39m \u001b[39mNone\u001b[39;00m\n\u001b[0;32m---> 24\u001b[0m     _,des \u001b[39m=\u001b[39m feat_des\u001b[39m.\u001b[39;49mcompute(img, opt[\u001b[39m'\u001b[39;49m\u001b[39mdense_kp\u001b[39;49m\u001b[39m'\u001b[39;49m])\n\u001b[1;32m     25\u001b[0m \u001b[39melse\u001b[39;00m:\n\u001b[1;32m     26\u001b[0m     _,des\u001b[39m=\u001b[39mfeat_des\u001b[39m.\u001b[39mdetectAndCompute(img,\u001b[39mNone\u001b[39;00m)\n",
      "\u001b[0;31mKeyboardInterrupt\u001b[0m: "
     ]
    }
   ],
   "source": [
    "columns = ['Descriptor', 'Spatial pyramid level', 'Codebook size', 'Step size',\n",
    "        'PCA perc', 'Accuracy']\n",
    "\n",
    "csv_filename = 'optimize_dense_sift.csv'\n",
    "\n",
    "feat_des = 'sift'\n",
    "dense = True\n",
    "\n",
    "spatial_pyramid_level = [0]\n",
    "step_size = [5, 8, 10, 12, 15]\n",
    "\n",
    "codebook_size = [1000]\n",
    "n_components = 1\n",
    "num_sizes = [1, 2, 3, 6, 10]\n",
    "\n",
    "results = []\n",
    "\n",
    "\n",
    "for pyramid_level in spatial_pyramid_level:\n",
    "    print('Spatial pyramid level: ', pyramid_level)\n",
    "    for step in step_size:\n",
    "        print('Step size: ', step)\n",
    "        for num_size in num_sizes:\n",
    "            print('Number of size: ', num_size)\n",
    "            params_pre = gridsearch_svm.set_params(feat_des=feat_des, dense=dense,\n",
    "                                level=pyramid_level, step_div=step, num_sizes=num_size)\n",
    "\n",
    "            train_des, D, test_des = gridsearch_svm.get_descriptors_D(params_pre)\n",
    "\n",
    "            for k in codebook_size:\n",
    "                print('Codebook size: ', k)\n",
    "                params = gridsearch_svm.set_params(feat_des=feat_des,dense=dense,level=pyramid_level,\n",
    "                                    k=k,step_div=step,lda_ncomponents=n_components)\n",
    "                scores = gridsearch_svm.run(train_des, D, test_des, params)\n",
    "\n",
    "                to_write = ['DENSE SIFT', pyramid_level, k, step, n_components, scores]\n",
    "                results.append(to_write)\n",
    "                print('#### Accuracy: ', scores)\n",
    "\n"
   ]
  },
  {
   "cell_type": "code",
   "execution_count": null,
   "metadata": {},
   "outputs": [],
   "source": []
  }
 ],
 "metadata": {
  "kernelspec": {
   "display_name": "venv",
   "language": "python",
   "name": "python3"
  },
  "language_info": {
   "codemirror_mode": {
    "name": "ipython",
    "version": 3
   },
   "file_extension": ".py",
   "mimetype": "text/x-python",
   "name": "python",
   "nbconvert_exporter": "python",
   "pygments_lexer": "ipython3",
   "version": "3.10.8"
  },
  "orig_nbformat": 4,
  "vscode": {
   "interpreter": {
    "hash": "2b6ccb4f4837f979e5f492bf4bc4cda0a47a160f21201f93bbc0d8f6226f8397"
   }
  }
 },
 "nbformat": 4,
 "nbformat_minor": 2
}
